{
 "cells": [
  {
   "cell_type": "markdown",
   "id": "cdb06d0b",
   "metadata": {},
   "source": [
    "# Data export"
   ]
  },
  {
   "cell_type": "code",
   "execution_count": 47,
   "id": "a2f901c2",
   "metadata": {},
   "outputs": [],
   "source": [
    "dataset_path = r\"D:\\Documents\\COMP3850-Group23-Ant-posture\\datasets\\col218_tip_only.v003.slp\"\n",
    "output_path = r\"D:\\Documents\\COMP3850-Group23-Ant-posture\\postures_sample1.csv\"\n",
    "predictions_only = True"
   ]
  },
  {
   "cell_type": "code",
   "execution_count": 40,
   "id": "9ee2f709",
   "metadata": {},
   "outputs": [],
   "source": [
    "import sleap\n",
    "\n",
    "dataset = sleap.load_file(dataset_path)\n",
    "\n",
    "if len(dataset.labeled_frames) == 0:\n",
    "    raise RuntimeError(\"Dataset has no data to export, run inference on the dataset first in SLEAP\")"
   ]
  },
  {
   "cell_type": "code",
   "execution_count": 71,
   "id": "2cfdd27c",
   "metadata": {
    "scrolled": false
   },
   "outputs": [],
   "source": [
    "sorted_frames = sorted(dataset.labeled_frames, key=lambda x: x.frame_idx)\n",
    "\n",
    "with open(output_path, 'w') as file:\n",
    "    file.write('video_path,video_width,video_height,frame_idx,instance_idx,part_name,predicted,x_pos,y_pos\\n')\n",
    "\n",
    "    for frame in sorted_frames:\n",
    "        if not predictions_only:\n",
    "            for instance_idx, instance in enumerate(frame.user_instances):\n",
    "                for point_idx, point in enumerate(instance.points_array):\n",
    "                    file.write(f'{frame.video.filename},{frame.video.width},{frame.video.height},{frame.frame_idx},{instance_idx},{dataset.skeleton.nodes[point_idx].name},False,{point[0]},{point[1]}\\n')\n",
    "        \n",
    "        for instance_idx, instance in enumerate(frame.predicted_instances):\n",
    "            for point_idx, point in enumerate(instance.points_array):\n",
    "                file.write(f'{frame.video.filename},{frame.video.width},{frame.video.height},{frame.frame_idx},{instance_idx},{dataset.skeleton.nodes[point_idx].name},True,{point[0]},{point[1]}\\n')"
   ]
  }
 ],
 "metadata": {
  "kernelspec": {
   "display_name": "Python 3 (ipykernel)",
   "language": "python",
   "name": "python3"
  },
  "language_info": {
   "codemirror_mode": {
    "name": "ipython",
    "version": 3
   },
   "file_extension": ".py",
   "mimetype": "text/x-python",
   "name": "python",
   "nbconvert_exporter": "python",
   "pygments_lexer": "ipython3",
   "version": "3.7.12"
  }
 },
 "nbformat": 4,
 "nbformat_minor": 5
}
