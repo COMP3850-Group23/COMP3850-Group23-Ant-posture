{
 "cells": [
  {
   "cell_type": "markdown",
   "id": "cdb06d0b",
   "metadata": {},
   "source": [
    "# Data export\n",
    "\n",
    "This notebook extracts the predictions and user-labeled instances (if configured) from a chosen SLEAP dataset file and exports them in a comma-separated values file that can be used for subsequent analysis. The structure of the output file is as follows,\n",
    "\n",
    "|Field name|Data type|Description|\n",
    "|-|-|:-|\n",
    "|video_path|String|The absolute path to a video containing one or more instances of ants.|\n",
    "|video_width|Integer|The width of the video in pixels.|\n",
    "|video_height|Integer|The height of the video in pixels.|\n",
    "|frame_idx|Integer|The index for a frame in the video given by video_path.|\n",
    "|instance_idx|Integer|The index for an instance in a frame (not applicable between frames).|\n",
    "|track_id|String|The name of the track that the instance belongs to, or blank if the instance does not belong to a track.|\n",
    "|part_name|String|The technical name for a body part in an instance.|\n",
    "|predicted|Boolean|True if the record is the predicted position of a body part, False if the record is the ground truth for a body part position.|\n",
    "|x_pos|Float|The X-coordinate of the body part in pixels.|\n",
    "|y_pos|Float|The Y-coordinate of the body part in pixels.|\n",
    "\n",
    "Enter values for each variable in the first cell below according to your setup and requirements. Each variable and corresponding value should look like the following,\n",
    "\n",
    "`variable_name = value`\n",
    "\n",
    "After entering values for all variables, click Cell > Run All in the top menu bar to execute the notebook and generate the output file.\n",
    "\n",
    "Note that the 'r' before the opening quotation mark for the `dataset_path` and `output_path` variables is required to ensure that backslashes in the folder path don't cause issues during processing, as the backslash is usually used to denote an \"escaped\" character in character strings."
   ]
  },
  {
   "cell_type": "markdown",
   "id": "3da82060",
   "metadata": {},
   "source": [
    "## Parameters"
   ]
  },
  {
   "cell_type": "code",
   "execution_count": 1,
   "id": "a2f901c2",
   "metadata": {},
   "outputs": [],
   "source": [
    "# Enter the file path for the SLEAP dataset that \n",
    "# e.g. r\"D:\\Documents\\Ant-posture\\datasets\\main.v001.slp\"\n",
    "dataset_path = r\"\"\n",
    "\n",
    "# Enter the file path where the output file should be saved to\n",
    "# e.g. r\"D:\\Documents\\Ant-posture\\postures.csv\"\n",
    "output_path = r\"\"\n",
    "\n",
    "# Set to True (without quotation marks) if predictions should be exported only (i.e. not user-labelled instances).\n",
    "# Otherwise, set to False if predictions and user-labelled instances should exported together\n",
    "predictions_only = True"
   ]
  },
  {
   "cell_type": "markdown",
   "id": "1ccdd703",
   "metadata": {},
   "source": [
    "## Code execution"
   ]
  },
  {
   "cell_type": "code",
   "execution_count": 2,
   "id": "9ee2f709",
   "metadata": {},
   "outputs": [],
   "source": [
    "# Import the SLEAP Python module to load data from SLEAP dataset files\n",
    "import sleap\n",
    "\n",
    "# Load the labels and predictions from the input dataset\n",
    "dataset = sleap.load_file(dataset_path)\n",
    "\n",
    "# Raise an error if there are no labelled frames or predictions to export\n",
    "if len(dataset.labeled_frames) == 0:\n",
    "    raise RuntimeError(\"Dataset has no data to export, run inference on the dataset first in SLEAP\")"
   ]
  },
  {
   "cell_type": "code",
   "execution_count": 3,
   "id": "2cfdd27c",
   "metadata": {
    "scrolled": false
   },
   "outputs": [],
   "source": [
    "# Sort the frames by frame index\n",
    "sorted_frames = sorted(dataset.labeled_frames, key=lambda x: x.frame_idx)\n",
    "\n",
    "# Write data to the output file\n",
    "try:\n",
    "    with open(output_path, 'w') as file:\n",
    "        file.write('video_path,video_width,video_height,frame_idx,instance_idx,track_id,part_name,predicted,x_pos,y_pos\\n')\n",
    "\n",
    "        for frame in sorted_frames:\n",
    "            if not predictions_only:\n",
    "                for instance_idx, instance in enumerate(frame.user_instances):\n",
    "                    for point_idx, point in enumerate(instance.points_array):\n",
    "                        file.write(f'{frame.video.filename},{frame.video.width},{frame.video.height},{frame.frame_idx},{instance_idx},{instance.track.name if instance.track else \"\"},{dataset.skeleton.nodes[point_idx].name},False,{point[0]},{point[1]}\\n')\n",
    "\n",
    "            for instance_idx, instance in enumerate(frame.predicted_instances):\n",
    "                for point_idx, point in enumerate(instance.points_array):\n",
    "                    file.write(f'{frame.video.filename},{frame.video.width},{frame.video.height},{frame.frame_idx},{instance_idx},{instance.track.name if instance.track else \"\"},{dataset.skeleton.nodes[point_idx].name},True,{point[0]},{point[1]}\\n')\n",
    "except FileNotFoundError:\n",
    "    print(e)\n",
    "    print(\"Make sure that missing videos have been replaced if the project file was created on another machine\")"
   ]
  }
 ],
 "metadata": {
  "kernelspec": {
   "display_name": "Python 3 (ipykernel)",
   "language": "python",
   "name": "python3"
  },
  "language_info": {
   "codemirror_mode": {
    "name": "ipython",
    "version": 3
   },
   "file_extension": ".py",
   "mimetype": "text/x-python",
   "name": "python",
   "nbconvert_exporter": "python",
   "pygments_lexer": "ipython3",
   "version": "3.7.12"
  }
 },
 "nbformat": 4,
 "nbformat_minor": 5
}
