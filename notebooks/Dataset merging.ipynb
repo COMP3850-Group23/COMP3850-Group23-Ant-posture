{
 "cells": [
  {
   "cell_type": "markdown",
   "id": "e3f7eac5",
   "metadata": {},
   "source": []
  },
  {
   "cell_type": "markdown",
   "id": "a877d171",
   "metadata": {},
   "source": []
  },
  {
   "cell_type": "code",
   "execution_count": 2,
   "id": "eda274f2",
   "metadata": {},
   "outputs": [],
   "source": [
    "import sleap\n",
    "import os\n",
    "\n",
    "# The path to the input folder that should contain all of the datasets that are to be merged\n",
    "input_folder = \"D:\\Documents\\COMP3850-Group23-Ant-posture\\datasets\"\n",
    "\n",
    "# The name of the combined dataset file\n",
    "output_filename = \"main.v001.slp\""
   ]
  },
  {
   "cell_type": "code",
   "execution_count": 3,
   "id": "8c2483c6",
   "metadata": {},
   "outputs": [
    {
     "data": {
      "text/plain": [
       "['col224.v001.slp',\n",
       " 'col402.v001.slp',\n",
       " 'quel223.v001.slp',\n",
       " 'quel321_1.v001.slp']"
      ]
     },
     "metadata": {},
     "output_type": "display_data"
    }
   ],
   "source": [
    "files = [file for file in os.scandir(input_folder)\n",
    "         if file.is_file() and file.name.endswith(\".slp\") and file.name != output_filename]\n",
    "display([file.name for file in files])"
   ]
  },
  {
   "cell_type": "code",
   "execution_count": 4,
   "id": "a66a6f92",
   "metadata": {},
   "outputs": [],
   "source": [
    "# Create an empty labelled dataset to load individual datasets into\n",
    "combined = sleap.Labels()"
   ]
  },
  {
   "cell_type": "code",
   "execution_count": 5,
   "id": "dea163e3",
   "metadata": {},
   "outputs": [],
   "source": [
    "for file in files:\n",
    "    labels = sleap.load_file(file.path)\n",
    "    _, base_conflicts, new_conflicts = sleap.Labels.complex_merge_between(combined, labels)\n",
    "    if base_conflicts or new_conflicts:\n",
    "        raise RuntimeError()"
   ]
  },
  {
   "cell_type": "code",
   "execution_count": 6,
   "id": "7159b9b0",
   "metadata": {},
   "outputs": [
    {
     "data": {
      "text/plain": [
       "Labels(labeled_frames=81, videos=4, skeletons=1, tracks=0)"
      ]
     },
     "execution_count": 6,
     "metadata": {},
     "output_type": "execute_result"
    }
   ],
   "source": [
    "combined"
   ]
  },
  {
   "cell_type": "code",
   "execution_count": 9,
   "id": "255b4e93",
   "metadata": {},
   "outputs": [
    {
     "name": "stdout",
     "output_type": "stream",
     "text": [
      "Number of videos: 4\n",
      "Total number of labelled instances: 1581\n"
     ]
    }
   ],
   "source": [
    "# Print out information for the combined dataset\n",
    "# More information can be obtained using the 'Label analysis' notebook\n",
    "\n",
    "instances = 0\n",
    "\n",
    "for frame in combined.labeled_frames:\n",
    "    instances += len(frame.instances)\n",
    "\n",
    "print(f\"Number of videos: {len(combined.videos)}\")\n",
    "print(f\"Total number of labelled instances: {instances}\")"
   ]
  },
  {
   "cell_type": "code",
   "execution_count": 10,
   "id": "ed8d025e",
   "metadata": {},
   "outputs": [],
   "source": [
    "# Save combined dataset to the input folder\n",
    "combined.save(os.path.join(input_folder, output_filename))"
   ]
  }
 ],
 "metadata": {
  "kernelspec": {
   "display_name": "Python 3 (ipykernel)",
   "language": "python",
   "name": "python3"
  },
  "language_info": {
   "codemirror_mode": {
    "name": "ipython",
    "version": 3
   },
   "file_extension": ".py",
   "mimetype": "text/x-python",
   "name": "python",
   "nbconvert_exporter": "python",
   "pygments_lexer": "ipython3",
   "version": "3.7.12"
  }
 },
 "nbformat": 4,
 "nbformat_minor": 5
}
