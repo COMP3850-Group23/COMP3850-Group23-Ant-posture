{
 "cells": [
  {
   "cell_type": "markdown",
   "id": "e3f7eac5",
   "metadata": {},
   "source": [
    "# Dataset merging\n",
    "\n",
    "This notebook merges multiple SLEAP datasets into a single dataset, which is easier to use for training and inference compared to using multiple datasets. To minimise the possibility of merge conflicts occurring, it is recommended that multiple individual SLEAP datasets do not contain labelled frames for the same video.\n",
    "\n",
    "Enter values for each variable in the first cell below according to your setup and requirements. Each variable and corresponding value should look like the following,\n",
    "\n",
    "`variable_name = value`\n",
    "\n",
    "After entering values for all variables, click Cell > Run All in the top menu bar to execute the notebook and merge the datasets.\n",
    "\n",
    "Note that the 'r' before the opening quotation mark for the `input_folder` variable is required to ensure that backslashes in the folder path don't cause issues during processing, as the backslash is usually used to denote an \"escaped\" character in character strings."
   ]
  },
  {
   "cell_type": "markdown",
   "id": "208d6130",
   "metadata": {},
   "source": [
    "## Parameters"
   ]
  },
  {
   "cell_type": "code",
   "execution_count": null,
   "id": "eda274f2",
   "metadata": {},
   "outputs": [],
   "source": [
    "# Enter the path to the input folder that contains all of the datasets that will be merged\n",
    "# e.g. r\"D:\\Documents\\COMP3850-Group23-Ant-posture\\datasets\"\n",
    "input_folder = r\"\"\n",
    "\n",
    "# Enter a name for the combined dataset output file\n",
    "# e.g. \"main.v001.slp\"\n",
    "output_filename = \"\""
   ]
  },
  {
   "cell_type": "markdown",
   "id": "fd18804c",
   "metadata": {},
   "source": [
    "\n",
    "## Code execution"
   ]
  },
  {
   "cell_type": "code",
   "execution_count": null,
   "id": "8c2483c6",
   "metadata": {},
   "outputs": [],
   "source": [
    "# Import the Python modules required for the notebook to run\n",
    "import sleap\n",
    "import os\n",
    "\n",
    "# Create an empty labelled dataset to load individual datasets into\n",
    "combined = sleap.Labels()\n",
    "\n",
    "# Find all of the SLEAP dataset files in the input folder\n",
    "files = [file for file in os.scandir(input_folder)\n",
    "         if file.is_file() and file.name.endswith(\".slp\") and file.name != output_filename]\n",
    "\n",
    "# Raise an error if there are no SLEAP dataset files found in the input folder\n",
    "if len(files) == 0:\n",
    "    raise RuntimeError(\"No SLEAP files found in the input folder, check that .slp files exist in the input folder\")"
   ]
  },
  {
   "cell_type": "code",
   "execution_count": null,
   "id": "dea163e3",
   "metadata": {},
   "outputs": [],
   "source": [
    "# Iterate through the individual datasets and add to combined dataset\n",
    "for file in files:\n",
    "    labels = sleap.load_file(file.path)\n",
    "    _, base_conflicts, new_conflicts = sleap.Labels.complex_merge_between(combined, labels)\n",
    "    if base_conflicts or new_conflicts:\n",
    "        raise RuntimeError(\"A conflict occurred, make sure that the individual datasets do not contain labelled frames for the same video\")"
   ]
  },
  {
   "cell_type": "code",
   "execution_count": null,
   "id": "255b4e93",
   "metadata": {},
   "outputs": [],
   "source": [
    "# Print out information for the combined dataset\n",
    "# More information can be obtained using the 'Label analysis' notebook\n",
    "\n",
    "instances = 0\n",
    "\n",
    "for frame in combined.labeled_frames:\n",
    "    instances += len(frame.instances)\n",
    "\n",
    "print(f\"Number of videos: {len(combined.videos)}\")\n",
    "print(f\"Total number of labelled frames: {len(combined.labeled_frames)}\")\n",
    "print(f\"Total number of labelled instances: {instances}\")"
   ]
  },
  {
   "cell_type": "code",
   "execution_count": null,
   "id": "ed8d025e",
   "metadata": {},
   "outputs": [],
   "source": [
    "# Save combined dataset to the input folder\n",
    "combined.save(os.path.join(input_folder, output_filename))"
   ]
  }
 ],
 "metadata": {
  "kernelspec": {
   "display_name": "Python 3 (ipykernel)",
   "language": "python",
   "name": "python3"
  },
  "language_info": {
   "codemirror_mode": {
    "name": "ipython",
    "version": 3
   },
   "file_extension": ".py",
   "mimetype": "text/x-python",
   "name": "python",
   "nbconvert_exporter": "python",
   "pygments_lexer": "ipython3",
   "version": "3.7.12"
  }
 },
 "nbformat": 4,
 "nbformat_minor": 5
}
