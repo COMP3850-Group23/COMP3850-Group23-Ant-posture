{
 "cells": [
  {
   "cell_type": "markdown",
   "id": "5b3d4e38",
   "metadata": {},
   "source": [
    "# Label analysis\n",
    "\n",
    "This notebook can be used to check the completeness of labelling in a particular dataset, which may be useful for finding labels that were added as part of an instance but were not moved into their correct position. A breakdown of body parts marked as not visible is also provided, which can show which body parts require more labelled instances.\n",
    "\n",
    "Enter values for each variable in the first cell below according to your setup and requirements. Each variable and corresponding value should look like the following,\n",
    "\n",
    "`variable_name = value`\n",
    "\n",
    "After entering values for all variables, click Cell > Run All in the top menu bar to execute the notebook and show the label analysis outputs.\n",
    "\n",
    "Note that the 'r' before the opening quotation mark for the `filename` variable is required to ensure that backslashes in the folder path don't cause issues during processing, as the backslash is usually used to denote an \"escaped\" character in character strings."
   ]
  },
  {
   "cell_type": "markdown",
   "id": "7a2a134d",
   "metadata": {},
   "source": [
    "## Parameters"
   ]
  },
  {
   "cell_type": "code",
   "execution_count": null,
   "id": "66e263ed",
   "metadata": {},
   "outputs": [],
   "source": [
    "# Enter the file path for the SLEAP dataset file to be analysed\n",
    "# e.g. r\"D:\\Documents\\Ant-posture\\datasets\\col218.v001.slp\"\n",
    "filename = r\"D:\\Documents\\COMP3850-Group23-Ant-posture\\datasets\\main.v001.slp\""
   ]
  },
  {
   "cell_type": "markdown",
   "id": "3c07329b",
   "metadata": {},
   "source": [
    "## Code execution"
   ]
  },
  {
   "cell_type": "code",
   "execution_count": null,
   "id": "b16645c6",
   "metadata": {},
   "outputs": [],
   "source": [
    "# Import the Python modules required for the notebook to run\n",
    "import os\n",
    "import sleap\n",
    "import pandas as pd\n",
    "from matplotlib import pyplot as plt\n",
    "\n",
    "# Set pandas to display up to 200 rows in a data frame before truncating it\n",
    "pd.set_option('display.max_rows', 200)\n",
    "\n",
    "# Check if the dataset exists at the given path and raise an error if it is not found\n",
    "if not os.path.exists(filename):\n",
    "    raise FileNotFoundError(\"File does not exist at \" + os.path.abspath(filename))\n",
    "    \n",
    "# Load the labels from the SLEAP dataset file\n",
    "labels = sleap.load_file(filename)"
   ]
  },
  {
   "cell_type": "code",
   "execution_count": null,
   "id": "d5a4377d",
   "metadata": {
    "scrolled": true
   },
   "outputs": [],
   "source": [
    "# Initialise all variables\n",
    "total_instances = 0\n",
    "total_unverified = 0\n",
    "unverified_dict = {}\n",
    "hidden_points = {}\n",
    "frames_list = []\n",
    "nodes_dict = {}\n",
    "\n",
    "# Create keys for each body part in the node dictionary\n",
    "for node in labels.skeletons[0].nodes:\n",
    "    nodes_dict[node.name] = 0\n",
    "\n",
    "# Cheack each labelled frame for unverified and non-visible points\n",
    "for labelled_frame in labels.labeled_frames:\n",
    "    unverified_dict[labelled_frame.frame_idx+1] = 0\n",
    "    hidden_points[labelled_frame.frame_idx+1] = 0\n",
    "    unverified_count = 0\n",
    "    \n",
    "    for instance in labelled_frame.user_instances:\n",
    "        total_instances += 1\n",
    "        for node, point in instance.nodes_points:\n",
    "            if not point.complete:\n",
    "                total_unverified += 1\n",
    "                unverified_dict[labelled_frame.frame_idx+1] += 1\n",
    "            if not point.visible:\n",
    "                nodes_dict[node.name] += 1\n",
    "                hidden_points[labelled_frame.frame_idx+1] += 1\n",
    "    frames_list.append((labelled_frame.video.backend.filename, labelled_frame.frame_idx, unverified_count))\n",
    "\n",
    "# Display the total number of instances and unverified points\n",
    "print(f\"Total labelled frames: {len(labels.labeled_frames)}\")\n",
    "print(f\"Total labelled instances: {total_instances}\")\n",
    "print(f\"Total unverified points: {total_unverified}\")\n",
    "display(pd.DataFrame(sorted(frames_list), columns=['video filename', 'frame index', 'unverified point count']))"
   ]
  },
  {
   "cell_type": "code",
   "execution_count": null,
   "id": "9eced676",
   "metadata": {},
   "outputs": [],
   "source": [
    "# Display the count and percentage of body part labels marked not visible\n",
    "inv_df = pd.DataFrame.from_dict(nodes_dict, orient='index', columns=['invisible'])\n",
    "inv_df['invisible percent of total'] = inv_df['invisible'] / total_instances * 100\n",
    "display(inv_df)"
   ]
  },
  {
   "cell_type": "code",
   "execution_count": null,
   "id": "9dabbbd7",
   "metadata": {},
   "outputs": [],
   "source": [
    "# Display a sample labelled frome from the dataset\n",
    "try:\n",
    "    labels.labeled_frames[0].plot()\n",
    "except FileNotFoundError as e:\n",
    "    print(e)\n",
    "    print(\"Make sure that missing videos have been replaced if the project file was created on another machine\")"
   ]
  }
 ],
 "metadata": {
  "kernelspec": {
   "display_name": "Python 3 (ipykernel)",
   "language": "python",
   "name": "python3"
  },
  "language_info": {
   "codemirror_mode": {
    "name": "ipython",
    "version": 3
   },
   "file_extension": ".py",
   "mimetype": "text/x-python",
   "name": "python",
   "nbconvert_exporter": "python",
   "pygments_lexer": "ipython3",
   "version": "3.7.12"
  }
 },
 "nbformat": 4,
 "nbformat_minor": 5
}
