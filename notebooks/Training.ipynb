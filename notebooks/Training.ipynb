{
 "cells": [
  {
   "cell_type": "code",
   "execution_count": 1,
   "id": "a6866a77",
   "metadata": {},
   "outputs": [],
   "source": [
    "import sleap\n",
    "import datetime"
   ]
  },
  {
   "cell_type": "markdown",
   "id": "02e70ce9",
   "metadata": {},
   "source": [
    "## Centroid Training"
   ]
  },
  {
   "cell_type": "code",
   "execution_count": 2,
   "id": "00d7de6c",
   "metadata": {},
   "outputs": [],
   "source": [
    "centroid_config = sleap.nn.config.training_job.TrainingJobConfig.load_json(\"D:\\Documents\\COMP3850-Group23-Ant-posture\\models\\myee1\\centroid.json\")"
   ]
  },
  {
   "cell_type": "code",
   "execution_count": 3,
   "id": "8a03653a",
   "metadata": {},
   "outputs": [],
   "source": [
    "centroid_config.outputs.runs_folder = 'D:\\Documents\\COMP3850-Group23-Ant-posture\\models\\myee1'\n",
    "centroid_config.outputs.run_name = datetime.datetime.now().strftime(\"%y%m%d_%H%M%S\")"
   ]
  },
  {
   "cell_type": "code",
   "execution_count": 4,
   "id": "7a8457cf",
   "metadata": {},
   "outputs": [
    {
     "name": "stdout",
     "output_type": "stream",
     "text": [
      "INFO:sleap.nn.training:Loading training labels from: D:/Documents/COMP3850-Group23-Ant-posture/datasets/main.v001.slp\n",
      "INFO:sleap.nn.training:Creating training and validation splits from validation fraction: 0.2\n",
      "INFO:sleap.nn.training:  Splits: Training = 50 / Validation = 12.\n",
      "INFO:sleap.nn.training:Setting up for training...\n",
      "INFO:sleap.nn.training:Setting up pipeline builders...\n",
      "INFO:sleap.nn.training:Setting up model...\n",
      "INFO:sleap.nn.training:Building test pipeline...\n",
      "INFO:sleap.nn.training:Loaded test example. [5.887s]\n",
      "INFO:sleap.nn.training:  Input shape: (1088, 1920, 3)\n",
      "INFO:sleap.nn.training:Created Keras model.\n",
      "INFO:sleap.nn.training:  Backbone: UNet(stacks=1, filters=16, filters_rate=2.0, kernel_size=3, stem_kernel_size=7, convs_per_block=2, stem_blocks=0, down_blocks=5, middle_block=True, up_blocks=4, up_interpolate=True, block_contraction=False)\n",
      "INFO:sleap.nn.training:  Max stride: 32\n",
      "INFO:sleap.nn.training:  Parameters: 7,853,169\n",
      "INFO:sleap.nn.training:  Heads: \n",
      "INFO:sleap.nn.training:    [0] = CentroidConfmapsHead(anchor_part=None, sigma=2.5, output_stride=2, loss_weight=1.0)\n",
      "INFO:sleap.nn.training:  Outputs: \n",
      "INFO:sleap.nn.training:    [0] = KerasTensor(type_spec=TensorSpec(shape=(None, 544, 960, 1), dtype=tf.float32, name=None), name='CentroidConfmapsHead/BiasAdd:0', description=\"created by layer 'CentroidConfmapsHead'\")\n",
      "INFO:sleap.nn.training:Training from scratch\n",
      "INFO:sleap.nn.training:Setting up data pipelines...\n",
      "INFO:sleap.nn.training:Training set: n = 50\n",
      "INFO:sleap.nn.training:Validation set: n = 12\n",
      "INFO:sleap.nn.training:Setting up optimization...\n",
      "INFO:sleap.nn.training:  Learning rate schedule: LearningRateScheduleConfig(reduce_on_plateau=True, reduction_factor=0.5, plateau_min_delta=1e-06, plateau_patience=5, plateau_cooldown=3, min_learning_rate=1e-08)\n",
      "INFO:sleap.nn.training:  Early stopping: EarlyStoppingConfig(stop_training_on_plateau=True, plateau_min_delta=1e-08, plateau_patience=10)\n",
      "INFO:sleap.nn.training:Setting up outputs...\n",
      "INFO:sleap.nn.callbacks:Training controller subscribed to: tcp://127.0.0.1:9000 (topic: )\n",
      "INFO:sleap.nn.training:  ZMQ controller subcribed to: tcp://127.0.0.1:9000\n",
      "INFO:sleap.nn.callbacks:Progress reporter publishing on: tcp://127.0.0.1:9001 for: not_set\n",
      "INFO:sleap.nn.training:  ZMQ progress reporter publish on: tcp://127.0.0.1:9001\n",
      "INFO:sleap.nn.training:Created run path: D:\\Documents\\COMP3850-Group23-Ant-posture\\models\\myee1\\rgb.240415_124620.centroid\n",
      "INFO:sleap.nn.training:Setting up visualization...\n",
      "INFO:sleap.nn.training:Finished trainer set up. [19.6s]\n",
      "INFO:sleap.nn.training:Creating tf.data.Datasets for training data generation...\n",
      "INFO:sleap.nn.training:Finished creating training datasets. [55.6s]\n",
      "INFO:sleap.nn.training:Starting training loop...\n",
      "Epoch 1/100\n",
      "WARNING:tensorflow:Callback method `on_train_batch_end` is slow compared to the batch time (batch time: 0.1040s vs `on_train_batch_end` time: 0.1532s). Check your callbacks.\n",
      "200/200 - 107s - loss: 5.7698e-04 - val_loss: 4.6433e-04 - lr: 1.0000e-04 - 107s/epoch - 536ms/step\n",
      "Epoch 2/100\n",
      "200/200 - 110s - loss: 5.4522e-04 - val_loss: 5.5455e-04 - lr: 1.0000e-04 - 110s/epoch - 549ms/step\n",
      "Epoch 3/100\n",
      "200/200 - 90s - loss: 5.2355e-04 - val_loss: 4.8866e-04 - lr: 1.0000e-04 - 90s/epoch - 450ms/step\n",
      "Epoch 4/100\n",
      "200/200 - 88s - loss: 5.0027e-04 - val_loss: 5.5323e-04 - lr: 1.0000e-04 - 88s/epoch - 438ms/step\n",
      "Epoch 5/100\n",
      "200/200 - 91s - loss: 4.9791e-04 - val_loss: 5.1248e-04 - lr: 1.0000e-04 - 91s/epoch - 453ms/step\n",
      "Epoch 6/100\n",
      "\n",
      "Epoch 6: ReduceLROnPlateau reducing learning rate to 4.999999873689376e-05.\n",
      "200/200 - 82s - loss: 4.8809e-04 - val_loss: 4.7737e-04 - lr: 1.0000e-04 - 82s/epoch - 408ms/step\n",
      "Epoch 7/100\n",
      "200/200 - 86s - loss: 4.7823e-04 - val_loss: 5.0793e-04 - lr: 5.0000e-05 - 86s/epoch - 432ms/step\n",
      "Epoch 8/100\n",
      "200/200 - 87s - loss: 4.7074e-04 - val_loss: 4.5084e-04 - lr: 5.0000e-05 - 87s/epoch - 434ms/step\n",
      "Epoch 9/100\n",
      "200/200 - 84s - loss: 4.7158e-04 - val_loss: 4.8347e-04 - lr: 5.0000e-05 - 84s/epoch - 420ms/step\n",
      "Epoch 10/100\n",
      "200/200 - 90s - loss: 4.6255e-04 - val_loss: 4.5715e-04 - lr: 5.0000e-05 - 90s/epoch - 452ms/step\n",
      "Epoch 11/100\n",
      "200/200 - 86s - loss: 4.5856e-04 - val_loss: 4.5509e-04 - lr: 5.0000e-05 - 86s/epoch - 428ms/step\n",
      "Epoch 12/100\n",
      "200/200 - 90s - loss: 4.5161e-04 - val_loss: 4.6466e-04 - lr: 5.0000e-05 - 90s/epoch - 452ms/step\n",
      "Epoch 13/100\n",
      "200/200 - 95s - loss: 4.5102e-04 - val_loss: 4.1473e-04 - lr: 5.0000e-05 - 95s/epoch - 473ms/step\n",
      "Epoch 14/100\n",
      "200/200 - 107s - loss: 4.4393e-04 - val_loss: 4.5673e-04 - lr: 5.0000e-05 - 107s/epoch - 537ms/step\n",
      "Epoch 15/100\n",
      "200/200 - 116s - loss: 4.4619e-04 - val_loss: 4.4411e-04 - lr: 5.0000e-05 - 116s/epoch - 582ms/step\n",
      "Epoch 16/100\n",
      "200/200 - 112s - loss: 4.3852e-04 - val_loss: 4.3121e-04 - lr: 5.0000e-05 - 112s/epoch - 561ms/step\n",
      "Epoch 17/100\n",
      "200/200 - 101s - loss: 4.4166e-04 - val_loss: 4.2802e-04 - lr: 5.0000e-05 - 101s/epoch - 507ms/step\n",
      "Epoch 18/100\n",
      "\n",
      "Epoch 18: ReduceLROnPlateau reducing learning rate to 2.499999936844688e-05.\n",
      "200/200 - 104s - loss: 4.3411e-04 - val_loss: 4.3424e-04 - lr: 5.0000e-05 - 104s/epoch - 518ms/step\n",
      "Epoch 19/100\n",
      "200/200 - 106s - loss: 4.2093e-04 - val_loss: 4.2602e-04 - lr: 2.5000e-05 - 106s/epoch - 529ms/step\n",
      "Epoch 20/100\n",
      "200/200 - 87s - loss: 4.1535e-04 - val_loss: 4.3808e-04 - lr: 2.5000e-05 - 87s/epoch - 434ms/step\n",
      "Epoch 21/100\n",
      "200/200 - 88s - loss: 4.1150e-04 - val_loss: 4.0188e-04 - lr: 2.5000e-05 - 88s/epoch - 442ms/step\n",
      "Epoch 22/100\n",
      "200/200 - 92s - loss: 4.1005e-04 - val_loss: 4.5833e-04 - lr: 2.5000e-05 - 92s/epoch - 461ms/step\n",
      "Epoch 23/100\n",
      "200/200 - 107s - loss: 4.0953e-04 - val_loss: 3.8882e-04 - lr: 2.5000e-05 - 107s/epoch - 536ms/step\n",
      "Epoch 24/100\n",
      "200/200 - 85s - loss: 3.9915e-04 - val_loss: 4.4609e-04 - lr: 2.5000e-05 - 85s/epoch - 426ms/step\n",
      "Epoch 25/100\n",
      "200/200 - 85s - loss: 3.9808e-04 - val_loss: 4.1432e-04 - lr: 2.5000e-05 - 85s/epoch - 427ms/step\n",
      "Epoch 26/100\n",
      "200/200 - 86s - loss: 3.8795e-04 - val_loss: 4.0584e-04 - lr: 2.5000e-05 - 86s/epoch - 430ms/step\n",
      "Epoch 27/100\n",
      "200/200 - 92s - loss: 3.9329e-04 - val_loss: 4.2819e-04 - lr: 2.5000e-05 - 92s/epoch - 458ms/step\n",
      "Epoch 28/100\n",
      "\n",
      "Epoch 28: ReduceLROnPlateau reducing learning rate to 1.249999968422344e-05.\n",
      "200/200 - 87s - loss: 3.8909e-04 - val_loss: 3.8923e-04 - lr: 2.5000e-05 - 87s/epoch - 435ms/step\n",
      "Epoch 29/100\n",
      "200/200 - 87s - loss: 3.7678e-04 - val_loss: 4.3952e-04 - lr: 1.2500e-05 - 87s/epoch - 433ms/step\n",
      "Epoch 30/100\n",
      "200/200 - 85s - loss: 3.8588e-04 - val_loss: 4.2170e-04 - lr: 1.2500e-05 - 85s/epoch - 424ms/step\n",
      "Epoch 31/100\n",
      "200/200 - 85s - loss: 3.7438e-04 - val_loss: 3.9282e-04 - lr: 1.2500e-05 - 85s/epoch - 423ms/step\n",
      "Epoch 32/100\n",
      "200/200 - 87s - loss: 3.6828e-04 - val_loss: 3.7708e-04 - lr: 1.2500e-05 - 87s/epoch - 434ms/step\n",
      "Epoch 33/100\n",
      "200/200 - 83s - loss: 3.6870e-04 - val_loss: 4.2773e-04 - lr: 1.2500e-05 - 83s/epoch - 416ms/step\n",
      "Epoch 34/100\n",
      "200/200 - 85s - loss: 3.6675e-04 - val_loss: 4.1581e-04 - lr: 1.2500e-05 - 85s/epoch - 427ms/step\n",
      "Epoch 35/100\n",
      "200/200 - 87s - loss: 3.6655e-04 - val_loss: 4.0651e-04 - lr: 1.2500e-05 - 87s/epoch - 434ms/step\n",
      "Epoch 36/100\n",
      "200/200 - 86s - loss: 3.5960e-04 - val_loss: 4.0690e-04 - lr: 1.2500e-05 - 86s/epoch - 428ms/step\n",
      "Epoch 37/100\n",
      "\n",
      "Epoch 37: ReduceLROnPlateau reducing learning rate to 6.24999984211172e-06.\n",
      "200/200 - 86s - loss: 3.6391e-04 - val_loss: 3.8580e-04 - lr: 1.2500e-05 - 86s/epoch - 428ms/step\n",
      "Epoch 38/100\n",
      "200/200 - 85s - loss: 3.5128e-04 - val_loss: 4.2328e-04 - lr: 6.2500e-06 - 85s/epoch - 423ms/step\n",
      "Epoch 39/100\n",
      "200/200 - 85s - loss: 3.5659e-04 - val_loss: 3.9815e-04 - lr: 6.2500e-06 - 85s/epoch - 423ms/step\n",
      "Epoch 40/100\n",
      "200/200 - 86s - loss: 3.5147e-04 - val_loss: 3.6652e-04 - lr: 6.2500e-06 - 86s/epoch - 431ms/step\n",
      "Epoch 41/100\n",
      "200/200 - 85s - loss: 3.5216e-04 - val_loss: 4.1854e-04 - lr: 6.2500e-06 - 85s/epoch - 425ms/step\n",
      "Epoch 42/100\n",
      "200/200 - 85s - loss: 3.5182e-04 - val_loss: 3.8869e-04 - lr: 6.2500e-06 - 85s/epoch - 424ms/step\n",
      "Epoch 43/100\n",
      "200/200 - 85s - loss: 3.5024e-04 - val_loss: 4.0655e-04 - lr: 6.2500e-06 - 85s/epoch - 424ms/step\n",
      "Epoch 44/100\n",
      "200/200 - 89s - loss: 3.4732e-04 - val_loss: 4.2660e-04 - lr: 6.2500e-06 - 89s/epoch - 445ms/step\n",
      "Epoch 45/100\n",
      "\n",
      "Epoch 45: ReduceLROnPlateau reducing learning rate to 3.12499992105586e-06.\n"
     ]
    },
    {
     "name": "stdout",
     "output_type": "stream",
     "text": [
      "200/200 - 85s - loss: 3.4676e-04 - val_loss: 4.3128e-04 - lr: 6.2500e-06 - 85s/epoch - 426ms/step\n",
      "Epoch 46/100\n",
      "200/200 - 87s - loss: 3.4084e-04 - val_loss: 3.8295e-04 - lr: 3.1250e-06 - 87s/epoch - 433ms/step\n",
      "Epoch 47/100\n",
      "200/200 - 91s - loss: 3.3360e-04 - val_loss: 3.9762e-04 - lr: 3.1250e-06 - 91s/epoch - 453ms/step\n",
      "Epoch 48/100\n",
      "200/200 - 97s - loss: 3.3680e-04 - val_loss: 4.1626e-04 - lr: 3.1250e-06 - 97s/epoch - 487ms/step\n",
      "Epoch 49/100\n",
      "200/200 - 85s - loss: 3.3335e-04 - val_loss: 3.9907e-04 - lr: 3.1250e-06 - 85s/epoch - 425ms/step\n",
      "Epoch 50/100\n",
      "200/200 - 86s - loss: 3.3917e-04 - val_loss: 3.6490e-04 - lr: 3.1250e-06 - 86s/epoch - 430ms/step\n",
      "Epoch 51/100\n",
      "200/200 - 87s - loss: 3.3979e-04 - val_loss: 4.0227e-04 - lr: 3.1250e-06 - 87s/epoch - 433ms/step\n",
      "Epoch 52/100\n",
      "200/200 - 95s - loss: 3.3753e-04 - val_loss: 4.2127e-04 - lr: 3.1250e-06 - 95s/epoch - 477ms/step\n",
      "Epoch 53/100\n",
      "200/200 - 95s - loss: 3.3659e-04 - val_loss: 4.0265e-04 - lr: 3.1250e-06 - 95s/epoch - 474ms/step\n",
      "Epoch 54/100\n",
      "200/200 - 84s - loss: 3.3181e-04 - val_loss: 4.2541e-04 - lr: 3.1250e-06 - 84s/epoch - 422ms/step\n",
      "Epoch 55/100\n",
      "\n",
      "Epoch 55: ReduceLROnPlateau reducing learning rate to 1.56249996052793e-06.\n",
      "200/200 - 83s - loss: 3.3345e-04 - val_loss: 4.0646e-04 - lr: 3.1250e-06 - 83s/epoch - 416ms/step\n",
      "Epoch 56/100\n",
      "200/200 - 84s - loss: 3.3468e-04 - val_loss: 3.7887e-04 - lr: 1.5625e-06 - 84s/epoch - 420ms/step\n",
      "Epoch 57/100\n",
      "200/200 - 84s - loss: 3.3360e-04 - val_loss: 3.9304e-04 - lr: 1.5625e-06 - 84s/epoch - 419ms/step\n",
      "Epoch 58/100\n",
      "200/200 - 85s - loss: 3.3422e-04 - val_loss: 4.2137e-04 - lr: 1.5625e-06 - 85s/epoch - 423ms/step\n",
      "Epoch 59/100\n",
      "200/200 - 85s - loss: 3.2740e-04 - val_loss: 3.7551e-04 - lr: 1.5625e-06 - 85s/epoch - 425ms/step\n",
      "Epoch 60/100\n",
      "200/200 - 86s - loss: 3.2334e-04 - val_loss: 4.1014e-04 - lr: 1.5625e-06 - 86s/epoch - 432ms/step\n",
      "Epoch 60: early stopping\n",
      "INFO:sleap.nn.training:Finished training loop. [90.2 min]\n",
      "INFO:sleap.nn.training:Deleting visualization directory: D:\\Documents\\COMP3850-Group23-Ant-posture\\models\\myee1\\rgb.240415_124620.centroid\\viz\n",
      "INFO:sleap.nn.training:Saving evaluation metrics to model folder...\n"
     ]
    },
    {
     "data": {
      "application/vnd.jupyter.widget-view+json": {
       "model_id": "08f0a33757fb4490a090ae25139941f6",
       "version_major": 2,
       "version_minor": 0
      },
      "text/plain": [
       "Output()"
      ]
     },
     "metadata": {},
     "output_type": "display_data"
    },
    {
     "data": {
      "text/html": [
       "<pre style=\"white-space:pre;overflow-x:auto;line-height:normal;font-family:Menlo,'DejaVu Sans Mono',consolas,'Courier New',monospace\"></pre>\n"
      ],
      "text/plain": []
     },
     "metadata": {},
     "output_type": "display_data"
    },
    {
     "data": {
      "text/html": [
       "<pre style=\"white-space:pre;overflow-x:auto;line-height:normal;font-family:Menlo,'DejaVu Sans Mono',consolas,'Courier New',monospace\">\n",
       "</pre>\n"
      ],
      "text/plain": [
       "\n"
      ]
     },
     "metadata": {},
     "output_type": "display_data"
    },
    {
     "name": "stdout",
     "output_type": "stream",
     "text": [
      "INFO:sleap.nn.evals:Saved predictions: D:\\Documents\\COMP3850-Group23-Ant-posture\\models\\myee1\\rgb.240415_124620.centroid\\labels_pr.train.slp\n",
      "INFO:sleap.nn.evals:Saved metrics: D:\\Documents\\COMP3850-Group23-Ant-posture\\models\\myee1\\rgb.240415_124620.centroid\\metrics.train.npz\n",
      "INFO:sleap.nn.evals:OKS mAP: 0.653179\n"
     ]
    },
    {
     "data": {
      "application/vnd.jupyter.widget-view+json": {
       "model_id": "a64acb0f67744a4e969dcc01d142b087",
       "version_major": 2,
       "version_minor": 0
      },
      "text/plain": [
       "Output()"
      ]
     },
     "metadata": {},
     "output_type": "display_data"
    },
    {
     "data": {
      "text/html": [
       "<pre style=\"white-space:pre;overflow-x:auto;line-height:normal;font-family:Menlo,'DejaVu Sans Mono',consolas,'Courier New',monospace\"></pre>\n"
      ],
      "text/plain": []
     },
     "metadata": {},
     "output_type": "display_data"
    },
    {
     "data": {
      "text/html": [
       "<pre style=\"white-space:pre;overflow-x:auto;line-height:normal;font-family:Menlo,'DejaVu Sans Mono',consolas,'Courier New',monospace\">\n",
       "</pre>\n"
      ],
      "text/plain": [
       "\n"
      ]
     },
     "metadata": {},
     "output_type": "display_data"
    },
    {
     "name": "stdout",
     "output_type": "stream",
     "text": [
      "INFO:sleap.nn.evals:Saved predictions: D:\\Documents\\COMP3850-Group23-Ant-posture\\models\\myee1\\rgb.240415_124620.centroid\\labels_pr.val.slp\n",
      "INFO:sleap.nn.evals:Saved metrics: D:\\Documents\\COMP3850-Group23-Ant-posture\\models\\myee1\\rgb.240415_124620.centroid\\metrics.val.npz\n",
      "INFO:sleap.nn.evals:OKS mAP: 0.664553\n"
     ]
    }
   ],
   "source": [
    "centroid_config.data.preprocessing.ensure_rgb = True\n",
    "centroid_config.data.preprocessing.ensure_grayscale = False\n",
    "centroid_config.outputs.run_name_prefix = \"rgb.\"\n",
    "trainer = sleap.nn.training.Trainer.from_config(centroid_config)\n",
    "trainer.train()"
   ]
  },
  {
   "cell_type": "code",
   "execution_count": 6,
   "id": "1cf80d1c",
   "metadata": {},
   "outputs": [
    {
     "name": "stdout",
     "output_type": "stream",
     "text": [
      "INFO:sleap.nn.training:Loading training labels from: D:/Documents/COMP3850-Group23-Ant-posture/datasets/main.v001.slp\n",
      "INFO:sleap.nn.training:Creating training and validation splits from validation fraction: 0.2\n",
      "INFO:sleap.nn.training:  Splits: Training = 50 / Validation = 12.\n",
      "INFO:sleap.nn.training:Setting up for training...\n",
      "INFO:sleap.nn.training:Setting up pipeline builders...\n",
      "INFO:sleap.nn.training:Setting up model...\n",
      "INFO:sleap.nn.training:Building test pipeline...\n",
      "INFO:sleap.nn.training:Loaded test example. [4.980s]\n",
      "INFO:sleap.nn.training:  Input shape: (1088, 1920, 1)\n",
      "INFO:sleap.nn.training:Created Keras model.\n",
      "INFO:sleap.nn.training:  Backbone: UNet(stacks=1, filters=16, filters_rate=2.0, kernel_size=3, stem_kernel_size=7, convs_per_block=2, stem_blocks=0, down_blocks=5, middle_block=True, up_blocks=4, up_interpolate=True, block_contraction=False)\n",
      "INFO:sleap.nn.training:  Max stride: 32\n",
      "INFO:sleap.nn.training:  Parameters: 7,852,881\n",
      "INFO:sleap.nn.training:  Heads: \n",
      "INFO:sleap.nn.training:    [0] = CentroidConfmapsHead(anchor_part=None, sigma=2.5, output_stride=2, loss_weight=1.0)\n",
      "INFO:sleap.nn.training:  Outputs: \n",
      "INFO:sleap.nn.training:    [0] = KerasTensor(type_spec=TensorSpec(shape=(None, 544, 960, 1), dtype=tf.float32, name=None), name='CentroidConfmapsHead/BiasAdd:0', description=\"created by layer 'CentroidConfmapsHead'\")\n",
      "INFO:sleap.nn.training:Training from scratch\n",
      "INFO:sleap.nn.training:Setting up data pipelines...\n",
      "INFO:sleap.nn.training:Training set: n = 50\n",
      "INFO:sleap.nn.training:Validation set: n = 12\n",
      "INFO:sleap.nn.training:Setting up optimization...\n",
      "INFO:sleap.nn.training:  Learning rate schedule: LearningRateScheduleConfig(reduce_on_plateau=True, reduction_factor=0.5, plateau_min_delta=1e-06, plateau_patience=5, plateau_cooldown=3, min_learning_rate=1e-08)\n",
      "INFO:sleap.nn.training:  Early stopping: EarlyStoppingConfig(stop_training_on_plateau=True, plateau_min_delta=1e-08, plateau_patience=10)\n",
      "INFO:sleap.nn.training:Setting up outputs...\n",
      "INFO:sleap.nn.callbacks:Training controller subscribed to: tcp://127.0.0.1:9000 (topic: )\n",
      "INFO:sleap.nn.training:  ZMQ controller subcribed to: tcp://127.0.0.1:9000\n",
      "INFO:sleap.nn.callbacks:Progress reporter publishing on: tcp://127.0.0.1:9001 for: not_set\n",
      "INFO:sleap.nn.training:  ZMQ progress reporter publish on: tcp://127.0.0.1:9001\n",
      "INFO:sleap.nn.training:Created run path: D:\\Documents\\COMP3850-Group23-Ant-posture\\models\\myee1\\grayscale.240415_124620.centroid\n",
      "INFO:sleap.nn.training:Setting up visualization...\n",
      "INFO:sleap.nn.training:Finished trainer set up. [16.8s]\n",
      "INFO:sleap.nn.training:Creating tf.data.Datasets for training data generation...\n",
      "INFO:sleap.nn.training:Finished creating training datasets. [58.6s]\n",
      "INFO:sleap.nn.training:Starting training loop...\n",
      "Epoch 1/100\n",
      "WARNING:tensorflow:Callback method `on_train_batch_end` is slow compared to the batch time (batch time: 0.1978s vs `on_train_batch_end` time: 0.2037s). Check your callbacks.\n",
      "200/200 - 111s - loss: 5.8082e-04 - val_loss: 5.5471e-04 - lr: 1.0000e-04 - 111s/epoch - 554ms/step\n",
      "Epoch 2/100\n",
      "200/200 - 124s - loss: 5.5936e-04 - val_loss: 5.1393e-04 - lr: 1.0000e-04 - 124s/epoch - 618ms/step\n",
      "Epoch 3/100\n",
      "200/200 - 101s - loss: 5.2177e-04 - val_loss: 4.9436e-04 - lr: 1.0000e-04 - 101s/epoch - 504ms/step\n",
      "Epoch 4/100\n",
      "200/200 - 96s - loss: 5.1567e-04 - val_loss: 5.1183e-04 - lr: 1.0000e-04 - 96s/epoch - 480ms/step\n",
      "Epoch 5/100\n",
      "200/200 - 107s - loss: 4.9602e-04 - val_loss: 4.6824e-04 - lr: 1.0000e-04 - 107s/epoch - 536ms/step\n",
      "Epoch 6/100\n",
      "200/200 - 98s - loss: 4.9700e-04 - val_loss: 4.9005e-04 - lr: 1.0000e-04 - 98s/epoch - 491ms/step\n",
      "Epoch 7/100\n",
      "200/200 - 104s - loss: 4.9040e-04 - val_loss: 4.8836e-04 - lr: 1.0000e-04 - 104s/epoch - 522ms/step\n",
      "Epoch 8/100\n",
      "200/200 - 96s - loss: 4.7752e-04 - val_loss: 4.2936e-04 - lr: 1.0000e-04 - 96s/epoch - 478ms/step\n",
      "Epoch 9/100\n",
      "200/200 - 91s - loss: 4.7439e-04 - val_loss: 4.8070e-04 - lr: 1.0000e-04 - 91s/epoch - 456ms/step\n",
      "Epoch 10/100\n",
      "200/200 - 93s - loss: 4.6123e-04 - val_loss: 4.6639e-04 - lr: 1.0000e-04 - 93s/epoch - 465ms/step\n",
      "Epoch 11/100\n",
      "200/200 - 94s - loss: 4.5367e-04 - val_loss: 4.5902e-04 - lr: 1.0000e-04 - 94s/epoch - 469ms/step\n",
      "Epoch 12/100\n",
      "200/200 - 101s - loss: 4.5374e-04 - val_loss: 4.0324e-04 - lr: 1.0000e-04 - 101s/epoch - 504ms/step\n",
      "Epoch 13/100\n",
      "200/200 - 93s - loss: 4.5204e-04 - val_loss: 4.3245e-04 - lr: 1.0000e-04 - 93s/epoch - 467ms/step\n",
      "Epoch 14/100\n",
      "200/200 - 98s - loss: 4.4986e-04 - val_loss: 4.4666e-04 - lr: 1.0000e-04 - 98s/epoch - 488ms/step\n",
      "Epoch 15/100\n",
      "200/200 - 100s - loss: 4.4200e-04 - val_loss: 4.2462e-04 - lr: 1.0000e-04 - 100s/epoch - 498ms/step\n",
      "Epoch 16/100\n",
      "200/200 - 101s - loss: 4.2702e-04 - val_loss: 4.2864e-04 - lr: 1.0000e-04 - 101s/epoch - 507ms/step\n",
      "Epoch 17/100\n",
      "\n",
      "Epoch 17: ReduceLROnPlateau reducing learning rate to 4.999999873689376e-05.\n",
      "200/200 - 112s - loss: 4.3316e-04 - val_loss: 4.5328e-04 - lr: 1.0000e-04 - 112s/epoch - 562ms/step\n",
      "Epoch 18/100\n",
      "200/200 - 103s - loss: 4.1763e-04 - val_loss: 4.0260e-04 - lr: 5.0000e-05 - 103s/epoch - 516ms/step\n",
      "Epoch 19/100\n",
      "200/200 - 104s - loss: 4.0515e-04 - val_loss: 4.2390e-04 - lr: 5.0000e-05 - 104s/epoch - 519ms/step\n",
      "Epoch 20/100\n",
      "200/200 - 107s - loss: 4.0290e-04 - val_loss: 4.0043e-04 - lr: 5.0000e-05 - 107s/epoch - 536ms/step\n",
      "Epoch 21/100\n",
      "200/200 - 103s - loss: 3.9888e-04 - val_loss: 3.9054e-04 - lr: 5.0000e-05 - 103s/epoch - 517ms/step\n",
      "Epoch 22/100\n",
      "200/200 - 99s - loss: 3.9443e-04 - val_loss: 4.1879e-04 - lr: 5.0000e-05 - 99s/epoch - 497ms/step\n",
      "Epoch 23/100\n",
      "200/200 - 110s - loss: 3.8695e-04 - val_loss: 4.1610e-04 - lr: 5.0000e-05 - 110s/epoch - 551ms/step\n",
      "Epoch 24/100\n",
      "200/200 - 104s - loss: 3.9259e-04 - val_loss: 4.0274e-04 - lr: 5.0000e-05 - 104s/epoch - 519ms/step\n",
      "Epoch 25/100\n",
      "200/200 - 104s - loss: 3.7310e-04 - val_loss: 3.9761e-04 - lr: 5.0000e-05 - 104s/epoch - 519ms/step\n",
      "Epoch 26/100\n",
      "\n",
      "Epoch 26: ReduceLROnPlateau reducing learning rate to 2.499999936844688e-05.\n",
      "200/200 - 95s - loss: 3.6636e-04 - val_loss: 4.0046e-04 - lr: 5.0000e-05 - 95s/epoch - 473ms/step\n",
      "Epoch 27/100\n",
      "200/200 - 96s - loss: 3.5810e-04 - val_loss: 3.6171e-04 - lr: 2.5000e-05 - 96s/epoch - 481ms/step\n",
      "Epoch 28/100\n",
      "200/200 - 98s - loss: 3.4796e-04 - val_loss: 3.5564e-04 - lr: 2.5000e-05 - 98s/epoch - 489ms/step\n",
      "Epoch 29/100\n",
      "200/200 - 94s - loss: 3.5032e-04 - val_loss: 3.8987e-04 - lr: 2.5000e-05 - 94s/epoch - 468ms/step\n",
      "Epoch 30/100\n",
      "200/200 - 97s - loss: 3.4594e-04 - val_loss: 3.6093e-04 - lr: 2.5000e-05 - 97s/epoch - 487ms/step\n",
      "Epoch 31/100\n",
      "200/200 - 104s - loss: 3.3901e-04 - val_loss: 3.8398e-04 - lr: 2.5000e-05 - 104s/epoch - 522ms/step\n",
      "Epoch 32/100\n",
      "200/200 - 114s - loss: 3.3412e-04 - val_loss: 3.7092e-04 - lr: 2.5000e-05 - 114s/epoch - 568ms/step\n",
      "Epoch 33/100\n",
      "\n",
      "Epoch 33: ReduceLROnPlateau reducing learning rate to 1.249999968422344e-05.\n",
      "200/200 - 121s - loss: 3.3328e-04 - val_loss: 3.6618e-04 - lr: 2.5000e-05 - 121s/epoch - 603ms/step\n",
      "Epoch 34/100\n",
      "200/200 - 107s - loss: 3.2252e-04 - val_loss: 3.5867e-04 - lr: 1.2500e-05 - 107s/epoch - 535ms/step\n",
      "Epoch 35/100\n",
      "200/200 - 109s - loss: 3.2096e-04 - val_loss: 3.3860e-04 - lr: 1.2500e-05 - 109s/epoch - 545ms/step\n",
      "Epoch 36/100\n",
      "200/200 - 101s - loss: 3.1726e-04 - val_loss: 3.7270e-04 - lr: 1.2500e-05 - 101s/epoch - 503ms/step\n",
      "Epoch 37/100\n",
      "200/200 - 104s - loss: 3.1997e-04 - val_loss: 3.4829e-04 - lr: 1.2500e-05 - 104s/epoch - 521ms/step\n",
      "Epoch 38/100\n",
      "200/200 - 105s - loss: 3.1784e-04 - val_loss: 3.6000e-04 - lr: 1.2500e-05 - 105s/epoch - 527ms/step\n",
      "Epoch 39/100\n",
      "200/200 - 121s - loss: 3.1508e-04 - val_loss: 3.5165e-04 - lr: 1.2500e-05 - 121s/epoch - 607ms/step\n",
      "Epoch 40/100\n",
      "\n",
      "Epoch 40: ReduceLROnPlateau reducing learning rate to 6.24999984211172e-06.\n",
      "200/200 - 149s - loss: 3.1387e-04 - val_loss: 3.4701e-04 - lr: 1.2500e-05 - 149s/epoch - 746ms/step\n",
      "Epoch 41/100\n",
      "200/200 - 94s - loss: 3.0971e-04 - val_loss: 3.5276e-04 - lr: 6.2500e-06 - 94s/epoch - 469ms/step\n",
      "Epoch 42/100\n",
      "200/200 - 93s - loss: 3.0963e-04 - val_loss: 3.6937e-04 - lr: 6.2500e-06 - 93s/epoch - 467ms/step\n",
      "Epoch 43/100\n",
      "200/200 - 96s - loss: 3.0200e-04 - val_loss: 3.3876e-04 - lr: 6.2500e-06 - 96s/epoch - 480ms/step\n",
      "Epoch 44/100\n",
      "200/200 - 121s - loss: 3.0457e-04 - val_loss: 3.5509e-04 - lr: 6.2500e-06 - 121s/epoch - 606ms/step\n",
      "Epoch 45/100\n",
      "200/200 - 99s - loss: 3.0052e-04 - val_loss: 3.2097e-04 - lr: 6.2500e-06 - 99s/epoch - 495ms/step\n"
     ]
    },
    {
     "name": "stdout",
     "output_type": "stream",
     "text": [
      "Epoch 46/100\n",
      "200/200 - 94s - loss: 2.9703e-04 - val_loss: 3.2003e-04 - lr: 6.2500e-06 - 94s/epoch - 470ms/step\n",
      "Epoch 47/100\n",
      "200/200 - 98s - loss: 2.9669e-04 - val_loss: 3.5378e-04 - lr: 6.2500e-06 - 98s/epoch - 489ms/step\n",
      "Epoch 48/100\n",
      "200/200 - 118s - loss: 2.9453e-04 - val_loss: 3.4483e-04 - lr: 6.2500e-06 - 118s/epoch - 589ms/step\n",
      "Epoch 49/100\n",
      "200/200 - 119s - loss: 2.9484e-04 - val_loss: 3.5671e-04 - lr: 6.2500e-06 - 119s/epoch - 593ms/step\n",
      "Epoch 50/100\n",
      "\n",
      "Epoch 50: ReduceLROnPlateau reducing learning rate to 3.12499992105586e-06.\n",
      "200/200 - 128s - loss: 2.8875e-04 - val_loss: 3.4376e-04 - lr: 6.2500e-06 - 128s/epoch - 642ms/step\n",
      "Epoch 51/100\n",
      "200/200 - 123s - loss: 2.9029e-04 - val_loss: 3.5382e-04 - lr: 3.1250e-06 - 123s/epoch - 616ms/step\n",
      "Epoch 52/100\n",
      "200/200 - 129s - loss: 2.8766e-04 - val_loss: 3.4458e-04 - lr: 3.1250e-06 - 129s/epoch - 646ms/step\n",
      "Epoch 53/100\n",
      "200/200 - 123s - loss: 2.8619e-04 - val_loss: 3.3646e-04 - lr: 3.1250e-06 - 123s/epoch - 614ms/step\n",
      "Epoch 54/100\n",
      "200/200 - 97s - loss: 2.9171e-04 - val_loss: 3.4469e-04 - lr: 3.1250e-06 - 97s/epoch - 484ms/step\n",
      "Epoch 55/100\n",
      "200/200 - 104s - loss: 2.8612e-04 - val_loss: 3.5433e-04 - lr: 3.1250e-06 - 104s/epoch - 519ms/step\n",
      "Epoch 56/100\n",
      "200/200 - 98s - loss: 2.8615e-04 - val_loss: 3.7217e-04 - lr: 3.1250e-06 - 98s/epoch - 490ms/step\n",
      "Epoch 56: early stopping\n",
      "INFO:sleap.nn.training:Finished training loop. [98.4 min]\n",
      "INFO:sleap.nn.training:Deleting visualization directory: D:\\Documents\\COMP3850-Group23-Ant-posture\\models\\myee1\\grayscale.240415_124620.centroid\\viz\n",
      "INFO:sleap.nn.training:Saving evaluation metrics to model folder...\n"
     ]
    },
    {
     "data": {
      "application/vnd.jupyter.widget-view+json": {
       "model_id": "7e21e70a17c14865807b31734518f4f8",
       "version_major": 2,
       "version_minor": 0
      },
      "text/plain": [
       "Output()"
      ]
     },
     "metadata": {},
     "output_type": "display_data"
    },
    {
     "data": {
      "text/html": [
       "<pre style=\"white-space:pre;overflow-x:auto;line-height:normal;font-family:Menlo,'DejaVu Sans Mono',consolas,'Courier New',monospace\"></pre>\n"
      ],
      "text/plain": []
     },
     "metadata": {},
     "output_type": "display_data"
    },
    {
     "data": {
      "text/html": [
       "<pre style=\"white-space:pre;overflow-x:auto;line-height:normal;font-family:Menlo,'DejaVu Sans Mono',consolas,'Courier New',monospace\">\n",
       "</pre>\n"
      ],
      "text/plain": [
       "\n"
      ]
     },
     "metadata": {},
     "output_type": "display_data"
    },
    {
     "name": "stdout",
     "output_type": "stream",
     "text": [
      "INFO:sleap.nn.evals:Saved predictions: D:\\Documents\\COMP3850-Group23-Ant-posture\\models\\myee1\\grayscale.240415_124620.centroid\\labels_pr.train.slp\n",
      "INFO:sleap.nn.evals:Saved metrics: D:\\Documents\\COMP3850-Group23-Ant-posture\\models\\myee1\\grayscale.240415_124620.centroid\\metrics.train.npz\n",
      "INFO:sleap.nn.evals:OKS mAP: 0.682251\n"
     ]
    },
    {
     "data": {
      "application/vnd.jupyter.widget-view+json": {
       "model_id": "084373696acf41ed8866367819da2cce",
       "version_major": 2,
       "version_minor": 0
      },
      "text/plain": [
       "Output()"
      ]
     },
     "metadata": {},
     "output_type": "display_data"
    },
    {
     "data": {
      "text/html": [
       "<pre style=\"white-space:pre;overflow-x:auto;line-height:normal;font-family:Menlo,'DejaVu Sans Mono',consolas,'Courier New',monospace\"></pre>\n"
      ],
      "text/plain": []
     },
     "metadata": {},
     "output_type": "display_data"
    },
    {
     "data": {
      "text/html": [
       "<pre style=\"white-space:pre;overflow-x:auto;line-height:normal;font-family:Menlo,'DejaVu Sans Mono',consolas,'Courier New',monospace\">\n",
       "</pre>\n"
      ],
      "text/plain": [
       "\n"
      ]
     },
     "metadata": {},
     "output_type": "display_data"
    },
    {
     "name": "stdout",
     "output_type": "stream",
     "text": [
      "INFO:sleap.nn.evals:Saved predictions: D:\\Documents\\COMP3850-Group23-Ant-posture\\models\\myee1\\grayscale.240415_124620.centroid\\labels_pr.val.slp\n",
      "INFO:sleap.nn.evals:Saved metrics: D:\\Documents\\COMP3850-Group23-Ant-posture\\models\\myee1\\grayscale.240415_124620.centroid\\metrics.val.npz\n",
      "INFO:sleap.nn.evals:OKS mAP: 0.626528\n"
     ]
    }
   ],
   "source": [
    "centroid_config.data.preprocessing.ensure_rgb = False\n",
    "centroid_config.data.preprocessing.ensure_grayscale = True\n",
    "centroid_config.outputs.run_name_prefix = \"grayscale.\"\n",
    "trainer = sleap.nn.training.Trainer.from_config(centroid_config)\n",
    "trainer.train()"
   ]
  },
  {
   "cell_type": "markdown",
   "id": "c0548c97",
   "metadata": {},
   "source": [
    "## Centred Instance Training"
   ]
  },
  {
   "cell_type": "code",
   "execution_count": null,
   "id": "86715600",
   "metadata": {},
   "outputs": [],
   "source": []
  },
  {
   "cell_type": "markdown",
   "id": "66ea9215",
   "metadata": {},
   "source": [
    "## Multi-instance Training"
   ]
  },
  {
   "cell_type": "code",
   "execution_count": 2,
   "id": "df02f673",
   "metadata": {},
   "outputs": [],
   "source": [
    "multi_config = sleap.nn.config.training_job.TrainingJobConfig.load_json(\"D:\\Documents\\COMP3850-Group23-Ant-posture\\models\\myee1\\multi_instance.json\")"
   ]
  },
  {
   "cell_type": "code",
   "execution_count": 3,
   "id": "8dcf04b5",
   "metadata": {},
   "outputs": [],
   "source": [
    "multi_config.outputs.runs_folder = 'D:\\Documents\\COMP3850-Group23-Ant-posture\\models\\myee1'\n",
    "multi_config.outputs.run_name = datetime.datetime.now().strftime(\"%y%m%d_%H%M%S\")"
   ]
  },
  {
   "cell_type": "code",
   "execution_count": 4,
   "id": "9e2d2ddd",
   "metadata": {},
   "outputs": [],
   "source": [
    "multi_config.data.preprocessing.ensure_rgb = True\n",
    "multi_config.data.preprocessing.ensure_grayscale = False\n",
    "multi_config.outputs.run_name_prefix = \"half_size.\"\n",
    "multi_config.optimization.batch_size = 1\n",
    "multi_config.data.preprocessing.input_scaling = 0.5"
   ]
  },
  {
   "cell_type": "code",
   "execution_count": 5,
   "id": "1fa3c3e7",
   "metadata": {},
   "outputs": [
    {
     "name": "stdout",
     "output_type": "stream",
     "text": [
      "INFO:sleap.nn.training:Loading training labels from: D:/Documents/COMP3850-Group23-Ant-posture/datasets/main.v001.slp\n",
      "INFO:sleap.nn.training:Creating training and validation splits from validation fraction: 0.2\n",
      "INFO:sleap.nn.training:  Splits: Training = 64 / Validation = 16.\n",
      "INFO:sleap.nn.training:Setting up for training...\n",
      "INFO:sleap.nn.training:Setting up pipeline builders...\n",
      "INFO:sleap.nn.training:Setting up model...\n",
      "INFO:sleap.nn.training:Building test pipeline...\n",
      "INFO:sleap.nn.training:Loaded test example. [6.722s]\n",
      "INFO:sleap.nn.training:  Input shape: (1088, 1920, 3)\n",
      "INFO:sleap.nn.training:Created Keras model.\n",
      "INFO:sleap.nn.training:  Backbone: UNet(stacks=1, filters=16, filters_rate=2.0, kernel_size=3, stem_kernel_size=7, convs_per_block=2, stem_blocks=0, down_blocks=5, middle_block=True, up_blocks=3, up_interpolate=True, block_contraction=False)\n",
      "INFO:sleap.nn.training:  Max stride: 32\n",
      "INFO:sleap.nn.training:  Parameters: 7,821,764\n",
      "INFO:sleap.nn.training:  Heads: \n",
      "INFO:sleap.nn.training:    [0] = MultiInstanceConfmapsHead(part_names=['Head', 'Neck', 'UpperThorax', 'LowerThorax', 'Petiole', 'Abdomen', 'LForeLeg', 'LForeFoot', 'RForeLeg', 'RForeFoot', 'LMidLeg', 'LMidFoot', 'RMidLeg', 'RMidFoot', 'LHindLeg', 'LHindFoot', 'RHindLeg', 'RHindFoot'], sigma=2.5, output_stride=4, loss_weight=1.0)\n",
      "INFO:sleap.nn.training:    [1] = PartAffinityFieldsHead(edges=[('Head', 'Neck'), ('Neck', 'UpperThorax'), ('UpperThorax', 'LowerThorax'), ('LowerThorax', 'Petiole'), ('Petiole', 'Abdomen'), ('UpperThorax', 'LForeLeg'), ('LForeLeg', 'LForeFoot'), ('UpperThorax', 'RForeLeg'), ('RForeLeg', 'RForeFoot'), ('LowerThorax', 'LMidLeg'), ('LMidLeg', 'LMidFoot'), ('LowerThorax', 'RMidLeg'), ('RMidLeg', 'RMidFoot'), ('Petiole', 'LHindLeg'), ('LHindLeg', 'LHindFoot'), ('Petiole', 'RHindLeg'), ('RHindLeg', 'RHindFoot')], sigma=75.0, output_stride=8, loss_weight=1.0)\n",
      "INFO:sleap.nn.training:  Outputs: \n",
      "INFO:sleap.nn.training:    [0] = KerasTensor(type_spec=TensorSpec(shape=(None, 272, 480, 18), dtype=tf.float32, name=None), name='MultiInstanceConfmapsHead/BiasAdd:0', description=\"created by layer 'MultiInstanceConfmapsHead'\")\n",
      "INFO:sleap.nn.training:    [1] = KerasTensor(type_spec=TensorSpec(shape=(None, 136, 240, 34), dtype=tf.float32, name=None), name='PartAffinityFieldsHead/BiasAdd:0', description=\"created by layer 'PartAffinityFieldsHead'\")\n",
      "INFO:sleap.nn.training:Training from scratch\n",
      "INFO:sleap.nn.training:Setting up data pipelines...\n",
      "INFO:sleap.nn.training:Training set: n = 64\n",
      "INFO:sleap.nn.training:Validation set: n = 16\n",
      "INFO:sleap.nn.training:Setting up optimization...\n",
      "INFO:sleap.nn.training:  Learning rate schedule: LearningRateScheduleConfig(reduce_on_plateau=True, reduction_factor=0.5, plateau_min_delta=1e-06, plateau_patience=5, plateau_cooldown=3, min_learning_rate=1e-08)\n",
      "INFO:sleap.nn.training:  Early stopping: EarlyStoppingConfig(stop_training_on_plateau=True, plateau_min_delta=1e-08, plateau_patience=10)\n",
      "INFO:sleap.nn.training:Setting up outputs...\n",
      "INFO:sleap.nn.training:Created run path: D:\\Documents\\COMP3850-Group23-Ant-posture\\models\\myee1\\half_size.240416_202503.multi_instance\n",
      "INFO:sleap.nn.training:Setting up visualization...\n",
      "INFO:sleap.nn.training:Finished trainer set up. [18.2s]\n",
      "INFO:sleap.nn.training:Creating tf.data.Datasets for training data generation...\n",
      "INFO:sleap.nn.training:Finished creating training datasets. [77.7s]\n",
      "INFO:sleap.nn.training:Starting training loop...\n",
      "Epoch 1/100\n",
      "200/200 - 124s - loss: 0.0051 - MultiInstanceConfmapsHead_loss: 0.0027 - PartAffinityFieldsHead_loss: 0.0024 - val_loss: 0.0059 - val_MultiInstanceConfmapsHead_loss: 0.0031 - val_PartAffinityFieldsHead_loss: 0.0028 - lr: 1.0000e-04 - 124s/epoch - 622ms/step\n",
      "Epoch 2/100\n",
      "200/200 - 113s - loss: 0.0049 - MultiInstanceConfmapsHead_loss: 0.0026 - PartAffinityFieldsHead_loss: 0.0024 - val_loss: 0.0055 - val_MultiInstanceConfmapsHead_loss: 0.0029 - val_PartAffinityFieldsHead_loss: 0.0027 - lr: 1.0000e-04 - 113s/epoch - 567ms/step\n",
      "Epoch 3/100\n",
      "200/200 - 100s - loss: 0.0048 - MultiInstanceConfmapsHead_loss: 0.0025 - PartAffinityFieldsHead_loss: 0.0023 - val_loss: 0.0053 - val_MultiInstanceConfmapsHead_loss: 0.0028 - val_PartAffinityFieldsHead_loss: 0.0026 - lr: 1.0000e-04 - 100s/epoch - 501ms/step\n",
      "Epoch 4/100\n",
      "200/200 - 105s - loss: 0.0046 - MultiInstanceConfmapsHead_loss: 0.0024 - PartAffinityFieldsHead_loss: 0.0022 - val_loss: 0.0051 - val_MultiInstanceConfmapsHead_loss: 0.0026 - val_PartAffinityFieldsHead_loss: 0.0025 - lr: 1.0000e-04 - 105s/epoch - 526ms/step\n",
      "Epoch 5/100\n",
      "200/200 - 98s - loss: 0.0044 - MultiInstanceConfmapsHead_loss: 0.0023 - PartAffinityFieldsHead_loss: 0.0022 - val_loss: 0.0047 - val_MultiInstanceConfmapsHead_loss: 0.0024 - val_PartAffinityFieldsHead_loss: 0.0023 - lr: 1.0000e-04 - 98s/epoch - 488ms/step\n",
      "Epoch 6/100\n",
      "200/200 - 88s - loss: 0.0040 - MultiInstanceConfmapsHead_loss: 0.0021 - PartAffinityFieldsHead_loss: 0.0020 - val_loss: 0.0042 - val_MultiInstanceConfmapsHead_loss: 0.0021 - val_PartAffinityFieldsHead_loss: 0.0020 - lr: 1.0000e-04 - 88s/epoch - 440ms/step\n",
      "Epoch 7/100\n",
      "200/200 - 90s - loss: 0.0038 - MultiInstanceConfmapsHead_loss: 0.0020 - PartAffinityFieldsHead_loss: 0.0019 - val_loss: 0.0041 - val_MultiInstanceConfmapsHead_loss: 0.0021 - val_PartAffinityFieldsHead_loss: 0.0020 - lr: 1.0000e-04 - 90s/epoch - 450ms/step\n",
      "Epoch 8/100\n",
      "200/200 - 85s - loss: 0.0036 - MultiInstanceConfmapsHead_loss: 0.0019 - PartAffinityFieldsHead_loss: 0.0018 - val_loss: 0.0038 - val_MultiInstanceConfmapsHead_loss: 0.0019 - val_PartAffinityFieldsHead_loss: 0.0018 - lr: 1.0000e-04 - 85s/epoch - 426ms/step\n",
      "Epoch 9/100\n",
      "200/200 - 88s - loss: 0.0035 - MultiInstanceConfmapsHead_loss: 0.0018 - PartAffinityFieldsHead_loss: 0.0017 - val_loss: 0.0038 - val_MultiInstanceConfmapsHead_loss: 0.0019 - val_PartAffinityFieldsHead_loss: 0.0018 - lr: 1.0000e-04 - 88s/epoch - 440ms/step\n",
      "Epoch 10/100\n",
      "200/200 - 93s - loss: 0.0033 - MultiInstanceConfmapsHead_loss: 0.0017 - PartAffinityFieldsHead_loss: 0.0016 - val_loss: 0.0036 - val_MultiInstanceConfmapsHead_loss: 0.0019 - val_PartAffinityFieldsHead_loss: 0.0017 - lr: 1.0000e-04 - 93s/epoch - 467ms/step\n",
      "Epoch 11/100\n",
      "200/200 - 96s - loss: 0.0033 - MultiInstanceConfmapsHead_loss: 0.0017 - PartAffinityFieldsHead_loss: 0.0016 - val_loss: 0.0037 - val_MultiInstanceConfmapsHead_loss: 0.0019 - val_PartAffinityFieldsHead_loss: 0.0018 - lr: 1.0000e-04 - 96s/epoch - 482ms/step\n",
      "Epoch 12/100\n",
      "200/200 - 94s - loss: 0.0032 - MultiInstanceConfmapsHead_loss: 0.0016 - PartAffinityFieldsHead_loss: 0.0015 - val_loss: 0.0035 - val_MultiInstanceConfmapsHead_loss: 0.0018 - val_PartAffinityFieldsHead_loss: 0.0017 - lr: 1.0000e-04 - 94s/epoch - 470ms/step\n",
      "Epoch 13/100\n",
      "200/200 - 90s - loss: 0.0030 - MultiInstanceConfmapsHead_loss: 0.0016 - PartAffinityFieldsHead_loss: 0.0015 - val_loss: 0.0035 - val_MultiInstanceConfmapsHead_loss: 0.0018 - val_PartAffinityFieldsHead_loss: 0.0017 - lr: 1.0000e-04 - 90s/epoch - 449ms/step\n",
      "Epoch 14/100\n",
      "200/200 - 87s - loss: 0.0030 - MultiInstanceConfmapsHead_loss: 0.0015 - PartAffinityFieldsHead_loss: 0.0014 - val_loss: 0.0036 - val_MultiInstanceConfmapsHead_loss: 0.0019 - val_PartAffinityFieldsHead_loss: 0.0017 - lr: 1.0000e-04 - 87s/epoch - 436ms/step\n",
      "Epoch 15/100\n",
      "200/200 - 91s - loss: 0.0029 - MultiInstanceConfmapsHead_loss: 0.0015 - PartAffinityFieldsHead_loss: 0.0014 - val_loss: 0.0035 - val_MultiInstanceConfmapsHead_loss: 0.0018 - val_PartAffinityFieldsHead_loss: 0.0017 - lr: 1.0000e-04 - 91s/epoch - 455ms/step\n",
      "Epoch 16/100\n",
      "200/200 - 91s - loss: 0.0028 - MultiInstanceConfmapsHead_loss: 0.0014 - PartAffinityFieldsHead_loss: 0.0014 - val_loss: 0.0036 - val_MultiInstanceConfmapsHead_loss: 0.0019 - val_PartAffinityFieldsHead_loss: 0.0017 - lr: 1.0000e-04 - 91s/epoch - 454ms/step\n",
      "Epoch 17/100\n",
      "200/200 - 82s - loss: 0.0027 - MultiInstanceConfmapsHead_loss: 0.0014 - PartAffinityFieldsHead_loss: 0.0013 - val_loss: 0.0035 - val_MultiInstanceConfmapsHead_loss: 0.0018 - val_PartAffinityFieldsHead_loss: 0.0017 - lr: 1.0000e-04 - 82s/epoch - 408ms/step\n",
      "Epoch 18/100\n",
      "200/200 - 89s - loss: 0.0025 - MultiInstanceConfmapsHead_loss: 0.0013 - PartAffinityFieldsHead_loss: 0.0013 - val_loss: 0.0034 - val_MultiInstanceConfmapsHead_loss: 0.0017 - val_PartAffinityFieldsHead_loss: 0.0016 - lr: 1.0000e-04 - 89s/epoch - 445ms/step\n"
     ]
    },
    {
     "name": "stdout",
     "output_type": "stream",
     "text": [
      "Epoch 19/100\n",
      "200/200 - 85s - loss: 0.0024 - MultiInstanceConfmapsHead_loss: 0.0012 - PartAffinityFieldsHead_loss: 0.0012 - val_loss: 0.0036 - val_MultiInstanceConfmapsHead_loss: 0.0019 - val_PartAffinityFieldsHead_loss: 0.0017 - lr: 1.0000e-04 - 85s/epoch - 424ms/step\n",
      "Epoch 20/100\n",
      "200/200 - 101s - loss: 0.0023 - MultiInstanceConfmapsHead_loss: 0.0012 - PartAffinityFieldsHead_loss: 0.0012 - val_loss: 0.0035 - val_MultiInstanceConfmapsHead_loss: 0.0018 - val_PartAffinityFieldsHead_loss: 0.0017 - lr: 1.0000e-04 - 101s/epoch - 503ms/step\n",
      "Epoch 21/100\n",
      "200/200 - 90s - loss: 0.0022 - MultiInstanceConfmapsHead_loss: 0.0011 - PartAffinityFieldsHead_loss: 0.0011 - val_loss: 0.0035 - val_MultiInstanceConfmapsHead_loss: 0.0018 - val_PartAffinityFieldsHead_loss: 0.0017 - lr: 1.0000e-04 - 90s/epoch - 451ms/step\n",
      "Epoch 22/100\n",
      "200/200 - 90s - loss: 0.0020 - MultiInstanceConfmapsHead_loss: 9.9999e-04 - PartAffinityFieldsHead_loss: 0.0010 - val_loss: 0.0036 - val_MultiInstanceConfmapsHead_loss: 0.0019 - val_PartAffinityFieldsHead_loss: 0.0017 - lr: 1.0000e-04 - 90s/epoch - 449ms/step\n",
      "Epoch 23/100\n",
      "\n",
      "Epoch 23: ReduceLROnPlateau reducing learning rate to 4.999999873689376e-05.\n",
      "200/200 - 93s - loss: 0.0020 - MultiInstanceConfmapsHead_loss: 0.0010 - PartAffinityFieldsHead_loss: 0.0010 - val_loss: 0.0036 - val_MultiInstanceConfmapsHead_loss: 0.0019 - val_PartAffinityFieldsHead_loss: 0.0017 - lr: 1.0000e-04 - 93s/epoch - 464ms/step\n",
      "Epoch 24/100\n",
      "200/200 - 90s - loss: 0.0018 - MultiInstanceConfmapsHead_loss: 8.6071e-04 - PartAffinityFieldsHead_loss: 9.0511e-04 - val_loss: 0.0034 - val_MultiInstanceConfmapsHead_loss: 0.0018 - val_PartAffinityFieldsHead_loss: 0.0016 - lr: 5.0000e-05 - 90s/epoch - 450ms/step\n",
      "Epoch 25/100\n",
      "200/200 - 95s - loss: 0.0017 - MultiInstanceConfmapsHead_loss: 8.1722e-04 - PartAffinityFieldsHead_loss: 8.7003e-04 - val_loss: 0.0035 - val_MultiInstanceConfmapsHead_loss: 0.0018 - val_PartAffinityFieldsHead_loss: 0.0017 - lr: 5.0000e-05 - 95s/epoch - 473ms/step\n",
      "Epoch 26/100\n",
      "200/200 - 94s - loss: 0.0016 - MultiInstanceConfmapsHead_loss: 7.8367e-04 - PartAffinityFieldsHead_loss: 8.4302e-04 - val_loss: 0.0034 - val_MultiInstanceConfmapsHead_loss: 0.0018 - val_PartAffinityFieldsHead_loss: 0.0016 - lr: 5.0000e-05 - 94s/epoch - 469ms/step\n",
      "Epoch 27/100\n",
      "200/200 - 124s - loss: 0.0015 - MultiInstanceConfmapsHead_loss: 7.1779e-04 - PartAffinityFieldsHead_loss: 7.8462e-04 - val_loss: 0.0035 - val_MultiInstanceConfmapsHead_loss: 0.0018 - val_PartAffinityFieldsHead_loss: 0.0016 - lr: 5.0000e-05 - 124s/epoch - 622ms/step\n",
      "Epoch 28/100\n",
      "200/200 - 93s - loss: 0.0015 - MultiInstanceConfmapsHead_loss: 7.2875e-04 - PartAffinityFieldsHead_loss: 8.0005e-04 - val_loss: 0.0035 - val_MultiInstanceConfmapsHead_loss: 0.0018 - val_PartAffinityFieldsHead_loss: 0.0017 - lr: 5.0000e-05 - 93s/epoch - 465ms/step\n",
      "Epoch 28: early stopping\n",
      "INFO:sleap.nn.training:Finished training loop. [44.4 min]\n",
      "INFO:sleap.nn.training:Deleting visualization directory: D:\\Documents\\COMP3850-Group23-Ant-posture\\models\\myee1\\half_size.240416_202503.multi_instance\\viz\n",
      "INFO:sleap.nn.training:Saving evaluation metrics to model folder...\n"
     ]
    },
    {
     "data": {
      "application/vnd.jupyter.widget-view+json": {
       "model_id": "0d74a170539645a1ba3ea4119310d7b4",
       "version_major": 2,
       "version_minor": 0
      },
      "text/plain": [
       "Output()"
      ]
     },
     "metadata": {},
     "output_type": "display_data"
    },
    {
     "data": {
      "text/html": [
       "<pre style=\"white-space:pre;overflow-x:auto;line-height:normal;font-family:Menlo,'DejaVu Sans Mono',consolas,'Courier New',monospace\"></pre>\n"
      ],
      "text/plain": []
     },
     "metadata": {},
     "output_type": "display_data"
    },
    {
     "data": {
      "text/html": [
       "<pre style=\"white-space:pre;overflow-x:auto;line-height:normal;font-family:Menlo,'DejaVu Sans Mono',consolas,'Courier New',monospace\">\n",
       "</pre>\n"
      ],
      "text/plain": [
       "\n"
      ]
     },
     "metadata": {},
     "output_type": "display_data"
    },
    {
     "name": "stdout",
     "output_type": "stream",
     "text": [
      "INFO:sleap.nn.evals:Saved predictions: D:\\Documents\\COMP3850-Group23-Ant-posture\\models\\myee1\\half_size.240416_202503.multi_instance\\labels_pr.train.slp\n",
      "INFO:sleap.nn.evals:Saved metrics: D:\\Documents\\COMP3850-Group23-Ant-posture\\models\\myee1\\half_size.240416_202503.multi_instance\\metrics.train.npz\n",
      "INFO:sleap.nn.evals:OKS mAP: 0.271087\n"
     ]
    },
    {
     "data": {
      "application/vnd.jupyter.widget-view+json": {
       "model_id": "a5d970eee936454a942c22297cc9864e",
       "version_major": 2,
       "version_minor": 0
      },
      "text/plain": [
       "Output()"
      ]
     },
     "metadata": {},
     "output_type": "display_data"
    },
    {
     "data": {
      "text/html": [
       "<pre style=\"white-space:pre;overflow-x:auto;line-height:normal;font-family:Menlo,'DejaVu Sans Mono',consolas,'Courier New',monospace\"></pre>\n"
      ],
      "text/plain": []
     },
     "metadata": {},
     "output_type": "display_data"
    },
    {
     "data": {
      "text/html": [
       "<pre style=\"white-space:pre;overflow-x:auto;line-height:normal;font-family:Menlo,'DejaVu Sans Mono',consolas,'Courier New',monospace\">\n",
       "</pre>\n"
      ],
      "text/plain": [
       "\n"
      ]
     },
     "metadata": {},
     "output_type": "display_data"
    },
    {
     "name": "stdout",
     "output_type": "stream",
     "text": [
      "INFO:sleap.nn.evals:Saved predictions: D:\\Documents\\COMP3850-Group23-Ant-posture\\models\\myee1\\half_size.240416_202503.multi_instance\\labels_pr.val.slp\n",
      "INFO:sleap.nn.evals:Saved metrics: D:\\Documents\\COMP3850-Group23-Ant-posture\\models\\myee1\\half_size.240416_202503.multi_instance\\metrics.val.npz\n",
      "INFO:sleap.nn.evals:OKS mAP: 0.169746\n"
     ]
    }
   ],
   "source": [
    "trainer = sleap.nn.training.Trainer.from_config(multi_config)\n",
    "trainer.train()"
   ]
  }
 ],
 "metadata": {
  "kernelspec": {
   "display_name": "Python 3 (ipykernel)",
   "language": "python",
   "name": "python3"
  },
  "language_info": {
   "codemirror_mode": {
    "name": "ipython",
    "version": 3
   },
   "file_extension": ".py",
   "mimetype": "text/x-python",
   "name": "python",
   "nbconvert_exporter": "python",
   "pygments_lexer": "ipython3",
   "version": "3.7.12"
  }
 },
 "nbformat": 4,
 "nbformat_minor": 5
}
