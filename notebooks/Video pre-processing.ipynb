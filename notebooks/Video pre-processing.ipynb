{
 "cells": [
  {
   "cell_type": "markdown",
   "id": "d29ae985",
   "metadata": {},
   "source": [
    "# Video pre-processing\n",
    "\n",
    "This notebook uses ffmpeg to convert the raw videos into a reliably seekable format that works best with SLEAP and crops the videos if necessary. Enter values for each variable in the first cell below according to your setup and requirements. Each variable and corresponding value should look like the following,\n",
    "\n",
    "`variable_name = value`\n",
    "\n",
    "After entering values for all variables, click Cell > Run All in the top menu bar to execute the notebook and process the videos.\n",
    "\n",
    "Note that the 'r' before the opening quotation mark for the `ffmpeg_path`, `input_folder`, and `output_folder` variables is required to ensure that backslashes in the folder path don't cause issues during processing, as the backslash is usually used to denote an \"escaped\" character in character strings."
   ]
  },
  {
   "cell_type": "markdown",
   "id": "89c82eaa",
   "metadata": {},
   "source": [
    "## Parameters"
   ]
  },
  {
   "cell_type": "code",
   "execution_count": null,
   "id": "b9788502",
   "metadata": {},
   "outputs": [],
   "source": [
    "# Enter the folder path for the extracted ffmpeg folder\n",
    "# e.g. r\"D:\\Downloads\\ffmpeg-6.1.1-essentials_build\"\n",
    "ffmpeg_path = r\"\"\n",
    "\n",
    "# Enter the folder path containing the raw video files\n",
    "# e.g. r\"D:\\Downloads\\Ant videos\"\n",
    "input_folder = r\"\"\n",
    "\n",
    "# Enter the folder path for the output folder where the processed videos should be saved\n",
    "# e.g. r\"D:\\Downloads\\Ant videos\\processed\"\n",
    "output_folder = r\"\"\n",
    "\n",
    "# Enter a suffix that should be appended to the end of the filenames of the processed videos if required (e.g. \"_proc\")\n",
    "# or leave as a blank string (i.e. \"\") if no suffix is required\n",
    "output_suffix = \"_proc\"\n",
    "\n",
    "# Set to True (without quotation marks) if the processed videos should be cropped to middle-left of the frame\n",
    "# (e.g. for weaver ant pulling chain videos) or False otherwise\n",
    "crop_videos = True"
   ]
  },
  {
   "cell_type": "markdown",
   "id": "34df9fb6",
   "metadata": {},
   "source": [
    "## Code execution"
   ]
  },
  {
   "cell_type": "code",
   "execution_count": null,
   "id": "f3bc44fe",
   "metadata": {},
   "outputs": [],
   "source": [
    "# Imports the Python modules required for the notebook to run\n",
    "import os\n",
    "import subprocess\n",
    "\n",
    "# Recursively searches the input path for the ffmpeg.exe executable\n",
    "def find_exe(path):\n",
    "    for entry in os.scandir(path):\n",
    "        if entry.is_file() and entry.name == 'ffmpeg.exe':\n",
    "            return entry.path\n",
    "        elif entry.is_dir():\n",
    "            found_path = find_exe(entry.path)\n",
    "            \n",
    "            if found_path is not None:\n",
    "                return found_path\n",
    "    \n",
    "    return None\n",
    "\n",
    "# If the ffmpeg_path leads directly to ffmpeg.exe, check that the path is valid\n",
    "if ffmpeg_path.endswith(\"ffmpeg.exe\"):    \n",
    "    if not os.path.exists(ffmpeg_path):\n",
    "        raise FileNotFoundError(f\"ffmpeg.exe not found in {ffmpeg_path}, check that the path is correct\")\n",
    "    \n",
    "    ffmpeg_loc = ffmpeg_path\n",
    "else:\n",
    "    # Search the path for the ffmpeg.exe file\n",
    "    ffmpeg_loc = find_exe(ffmpeg_path)\n",
    "    \n",
    "    if ffmpeg_loc is None:\n",
    "        raise FileNotFoundError(f\"ffmpeg.exe not found in {ffmpeg_path}, check that the correct folder has been set\")"
   ]
  },
  {
   "cell_type": "code",
   "execution_count": null,
   "id": "70ca17b8",
   "metadata": {},
   "outputs": [],
   "source": [
    "# Check that the input and output folders exist\n",
    "if not os.path.exists(input_folder):\n",
    "    raise FileNotFoundError(\"Input folder not found, check that the input_folder path is correct\")\n",
    "    \n",
    "if not os.path.exists(output_folder):\n",
    "    raise FileNotFoundError(\"Output folder does not exist, check that the output_folder path is correct\")"
   ]
  },
  {
   "cell_type": "code",
   "execution_count": null,
   "id": "cee30d8d",
   "metadata": {
    "scrolled": true
   },
   "outputs": [],
   "source": [
    "# Process each video in the input folder and save it to the output folder\n",
    "param = [ffmpeg_loc,\n",
    "         '-y',\n",
    "         '-i', f'{entry.path}',\n",
    "         '-vf' if crop_videos,\n",
    "         'crop=in_w/2:in_h/2:0:in_h/4' if crop_videos,\n",
    "         '-c:v', 'libx264',\n",
    "         '-pix_fmt', 'yuv420p',\n",
    "         '-preset', 'superfast',\n",
    "         '-crf', '23',\n",
    "         f'{output_filename}'\n",
    "        ]\n",
    "\n",
    "params = [p for p in params if p]\n",
    "\n",
    "for entry in os.scandir(input_folder):\n",
    "    if entry.is_file() and entry.name.endswith('.mp4'):\n",
    "        output_filename = os.path.join(output_folder, \"\".join(entry.name.split('.')[0:-1])) + output_suffix + \".mp4\"\n",
    "        process = subprocess.run([ffmpeg_loc,\n",
    "                                  '-y',\n",
    "                                  '-i', f'{entry.path}',\n",
    "                                  '-vf', 'crop=in_w/2:in_h/2:0:in_h/4',\n",
    "                                  '-c:v', 'libx264',\n",
    "                                  '-pix_fmt', 'yuv420p',\n",
    "                                  '-preset', 'superfast',\n",
    "                                  '-crf', '23',\n",
    "                                  f'{output_filename}'\n",
    "                                 ])"
   ]
  }
 ],
 "metadata": {
  "kernelspec": {
   "display_name": "Python 3 (ipykernel)",
   "language": "python",
   "name": "python3"
  },
  "language_info": {
   "codemirror_mode": {
    "name": "ipython",
    "version": 3
   },
   "file_extension": ".py",
   "mimetype": "text/x-python",
   "name": "python",
   "nbconvert_exporter": "python",
   "pygments_lexer": "ipython3",
   "version": "3.7.12"
  }
 },
 "nbformat": 4,
 "nbformat_minor": 5
}
