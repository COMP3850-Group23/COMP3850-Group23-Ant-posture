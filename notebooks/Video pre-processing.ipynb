{
 "cells": [
  {
   "cell_type": "markdown",
   "id": "d29ae985",
   "metadata": {},
   "source": [
    "# Video pre-processing\n",
    "\n",
    "This notebook uses ffmpeg to convert the raw videos into a reliably seekable format that works best with SLEAP and crops the videos if necessary. Enter values for each variable in the first cell below according to your setup and requirements. Each variable and corresponding value should look like the following,\n",
    "\n",
    "`variable_name = value`\n",
    "\n",
    "After entering values for all variables, click Cell > Run All in the top menu bar to execute the notebook and process the videos.\n",
    "\n",
    "Note that the 'r' before the opening quotation mark for the `ffmpeg_path`, `input_folder`, and `output_folder` variables is required to ensure that backslashes in the folder path don't cause issues during processing, as the backslash is usually used to denote an \"escaped\" character in character strings."
   ]
  },
  {
   "cell_type": "markdown",
   "id": "89c82eaa",
   "metadata": {},
   "source": [
    "## Parameters"
   ]
  },
  {
   "cell_type": "code",
   "execution_count": null,
   "id": "b9788502",
   "metadata": {},
   "outputs": [],
   "source": [
    "# Enter the folder path for the extracted ffmpeg folder\n",
    "# e.g. r\"D:\\Downloads\\ffmpeg-6.1.1-essentials_build\"\n",
    "ffmpeg_path = r\"\"\n",
    "\n",
    "# Enter the folder path containing the raw video files\n",
    "# e.g. r\"D:\\Downloads\\Ant videos\"\n",
    "input_folder = r\"\"\n",
    "\n",
    "# Enter the folder path for the output folder where the processed videos should be saved\n",
    "# e.g. r\"D:\\Downloads\\Ant videos\\processed\"\n",
    "output_folder = r\"\"\n",
    "\n",
    "# Enter a suffix that should be appended to the end of the filenames of the processed videos if required (e.g. \"_proc\")\n",
    "# or leave as a blank string (i.e. \"\") if no suffix is required\n",
    "output_suffix = \"_proc\""
   ]
  },
  {
   "cell_type": "markdown",
   "id": "ef30a09d",
   "metadata": {},
   "source": [
    "### Video cropping settings\n",
    "\n",
    "These settings control which section of the original video is cropped and saved to the output file if configured. The cropped region is defined by the offset of the top-left corner of the cropped region from the top-left corner of the video frame (`crop_box_topleft_x` and `crop_box_topleft_y`), and the width and height of the cropped region (`crop_box_width` and `crop_box_height`). Note that `crop_videos` must be set to `True` for these settings to have any effect.\n",
    "\n",
    "For example, to crop a 1920x1080 video so the output consists only of the lower-left quadrant of the video, you would set the variables as follows,\n",
    "\n",
    "- `crop_videos = True`\n",
    "- `crop_box_topleft_x = 0`\n",
    "- `crop_box_topleft_y = 540`\n",
    "- `crop_box_width = 960`\n",
    "- `crop_box_height = 540`"
   ]
  },
  {
   "cell_type": "code",
   "execution_count": null,
   "id": "f6a4ccf0",
   "metadata": {},
   "outputs": [],
   "source": [
    "# Set crop_videos to True (without quotation marks) if the processed videos should be cropped,\n",
    "# or False if no cropping should be performed\n",
    "crop_videos = False\n",
    "\n",
    "# Set to the distance in pixels that the left edge of the crop region should be from the left edge of the video frame\n",
    "crop_box_topleft_x = 0\n",
    "\n",
    "# Set to the distance in pixels that the top edge of the crop region should be from the top edge of the video frame\n",
    "crop_box_topleft_y = 0\n",
    "\n",
    "# Set to the width of the crop region in pixels\n",
    "crop_box_width = 0\n",
    "\n",
    "# Set to the height of the crop region in pixels\n",
    "crop_box_height = 0"
   ]
  },
  {
   "cell_type": "markdown",
   "id": "34df9fb6",
   "metadata": {},
   "source": [
    "## Code execution"
   ]
  },
  {
   "cell_type": "code",
   "execution_count": null,
   "id": "f3bc44fe",
   "metadata": {},
   "outputs": [],
   "source": [
    "# Imports the Python modules required for the notebook to run\n",
    "import os\n",
    "import subprocess\n",
    "\n",
    "# Recursively searches the input path for the ffmpeg.exe executable\n",
    "def find_exe(path):\n",
    "    for entry in os.scandir(path):\n",
    "        if entry.is_file() and entry.name == 'ffmpeg.exe':\n",
    "            return entry.path\n",
    "        elif entry.is_dir():\n",
    "            found_path = find_exe(entry.path)\n",
    "            \n",
    "            if found_path is not None:\n",
    "                return found_path\n",
    "    \n",
    "    return None\n",
    "\n",
    "# If the ffmpeg_path leads directly to ffmpeg.exe, check that the path is valid\n",
    "if ffmpeg_path.endswith(\"ffmpeg.exe\"):    \n",
    "    if not os.path.exists(ffmpeg_path):\n",
    "        raise FileNotFoundError(f\"ffmpeg.exe not found in {ffmpeg_path}, check that the path is correct\")\n",
    "    \n",
    "    ffmpeg_loc = ffmpeg_path\n",
    "else:\n",
    "    # Search the path for the ffmpeg.exe file\n",
    "    ffmpeg_loc = find_exe(ffmpeg_path)\n",
    "    \n",
    "    if ffmpeg_loc is None:\n",
    "        raise FileNotFoundError(f\"ffmpeg.exe not found in {ffmpeg_path}, check that the correct folder has been set\")"
   ]
  },
  {
   "cell_type": "code",
   "execution_count": null,
   "id": "70ca17b8",
   "metadata": {},
   "outputs": [],
   "source": [
    "# Check that the input and output folders exist\n",
    "if not os.path.exists(input_folder):\n",
    "    raise FileNotFoundError(\"Input folder not found, check that the input_folder path is correct\")\n",
    "    \n",
    "if not os.path.exists(output_folder):\n",
    "    raise FileNotFoundError(\"Output folder does not exist, check that the output_folder path is correct\")"
   ]
  },
  {
   "cell_type": "code",
   "execution_count": null,
   "id": "cee30d8d",
   "metadata": {
    "scrolled": true
   },
   "outputs": [],
   "source": [
    "# Process each video in the input folder and save it to the output folder\n",
    "for entry in os.scandir(input_folder):\n",
    "    if entry.is_file() and entry.name.lower().endswith('.mp4'):\n",
    "        output_filename = os.path.join(output_folder, \"\".join(entry.name.split('.')[0:-1])) + output_suffix + \".mp4\"\n",
    "        params = [ffmpeg_loc, '-y', '-i', entry.path]\n",
    "        \n",
    "        if crop_videos:\n",
    "            params.extend(['-vf', f'crop={crop_box_width}:{crop_box_height}:{crop_box_topleft_x}:{crop_box_topleft_y}'])\n",
    "        \n",
    "        params.extend(['-c:v', 'libx264', '-pix_fmt', 'yuv420p', '-preset', 'superfast', '-crf', '23', output_filename])\n",
    "        process = subprocess.run(params)"
   ]
  }
 ],
 "metadata": {
  "kernelspec": {
   "display_name": "Python 3 (ipykernel)",
   "language": "python",
   "name": "python3"
  },
  "language_info": {
   "codemirror_mode": {
    "name": "ipython",
    "version": 3
   },
   "file_extension": ".py",
   "mimetype": "text/x-python",
   "name": "python",
   "nbconvert_exporter": "python",
   "pygments_lexer": "ipython3",
   "version": "3.7.12"
  }
 },
 "nbformat": 4,
 "nbformat_minor": 5
}
