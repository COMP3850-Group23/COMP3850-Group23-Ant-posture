{
 "cells": [
  {
   "cell_type": "code",
   "execution_count": null,
   "id": "b9788502",
   "metadata": {},
   "outputs": [],
   "source": [
    "ffmpeg_path = r\"\"\n",
    "input_folder = r\"\"\n",
    "output_folder = r\"\"\n",
    "output_suffix = \"_proc\""
   ]
  },
  {
   "cell_type": "code",
   "execution_count": null,
   "id": "f3bc44fe",
   "metadata": {},
   "outputs": [],
   "source": [
    "import os\n",
    "import subprocess\n",
    "\n",
    "def find_exe(path):\n",
    "    for entry in os.scandir(path):\n",
    "        if entry.is_file() and entry.name == 'ffmpeg.exe':\n",
    "            return entry.path\n",
    "        elif entry.is_dir():\n",
    "            found_path = find_exe(entry.path)\n",
    "            \n",
    "            if found_path is not None:\n",
    "                return found_path\n",
    "    \n",
    "    return None\n",
    "\n",
    "if ffmpeg_path.endswith(\"ffmpeg.exe\"):    \n",
    "    if not os.path.exists(ffmpeg_path):\n",
    "        raise FileNotFoundError(f\"ffmpeg.exe not found in {ffmpeg_path}, check that the path is correct\")\n",
    "    \n",
    "    ffmpeg_loc = ffmpeg_path\n",
    "else:\n",
    "    ffmpeg_loc = find_exe(ffmpeg_path)\n",
    "    \n",
    "    if ffmpeg_loc is None:\n",
    "        raise FileNotFoundError(f\"ffmpeg.exe not found in {ffmpeg_path}, check that the correct folder has been set\")"
   ]
  },
  {
   "cell_type": "code",
   "execution_count": null,
   "id": "70ca17b8",
   "metadata": {},
   "outputs": [],
   "source": [
    "if not os.path.exists(input_folder):\n",
    "    raise FileNotFoundError(\"Input folder not found, check that the input_folder path is correct\")\n",
    "    \n",
    "if not os.path.exists(output_folder):\n",
    "    raise FileNotFoundError(\"Output folder does not exist, check that the output_folder path is correct\")"
   ]
  },
  {
   "cell_type": "code",
   "execution_count": null,
   "id": "cee30d8d",
   "metadata": {
    "scrolled": true
   },
   "outputs": [],
   "source": [
    "for entry in os.scandir(input_folder):\n",
    "    if entry.is_file() and entry.name.endswith('.mp4'):\n",
    "        output_filename = os.path.join(output_folder, \"\".join(entry.name.split('.')[0:-1])) + output_suffix + \".mp4\"\n",
    "        print(entry.path)\n",
    "        process = subprocess.run([ffmpeg_loc,\n",
    "                                  '-y',\n",
    "                                  '-i', f'{entry.path}',\n",
    "                                  '-vf', 'crop=in_w/2:in_h/2:0:in_h/4',\n",
    "                                  '-c:v', 'libx264',\n",
    "                                  '-pix_fmt', 'yuv420p',\n",
    "                                  '-preset', 'superfast',\n",
    "                                  '-crf', '23',\n",
    "                                  f'{output_filename}'\n",
    "                                 ])"
   ]
  }
 ],
 "metadata": {
  "kernelspec": {
   "display_name": "Python 3 (ipykernel)",
   "language": "python",
   "name": "python3"
  },
  "language_info": {
   "codemirror_mode": {
    "name": "ipython",
    "version": 3
   },
   "file_extension": ".py",
   "mimetype": "text/x-python",
   "name": "python",
   "nbconvert_exporter": "python",
   "pygments_lexer": "ipython3",
   "version": "3.7.12"
  }
 },
 "nbformat": 4,
 "nbformat_minor": 5
}
